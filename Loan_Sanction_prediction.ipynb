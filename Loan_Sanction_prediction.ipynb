{
 "cells": [
  {
   "cell_type": "code",
   "execution_count": 1,
   "metadata": {
    "id": "tmEwBX_6NjZO"
   },
   "outputs": [],
   "source": [
    "#importing the Libraries\n",
    "import pandas as pd\n",
    "import numpy as np\n",
    "import seaborn as sns\n",
    "import matplotlib.pyplot as plt\n",
    "import warnings\n",
    "%matplotlib inline \n",
    "warnings.filterwarnings('ignore')\n",
    "from sklearn.preprocessing import OneHotEncoder\n",
    "from sklearn.metrics import mean_squared_error\n",
    "from sklearn.ensemble import RandomForestRegressor\n",
    "from sklearn.model_selection import train_test_split\n",
    "from sklearn import preprocessing\n",
    "import smogn\n",
    "from sklearn.ensemble import ExtraTreesRegressor"
   ]
  },
  {
   "cell_type": "code",
   "execution_count": 2,
   "metadata": {
    "colab": {
     "base_uri": "https://localhost:8080/",
     "height": 360
    },
    "id": "EC4JuotNN9wn",
    "outputId": "ca9f3282-a070-4204-e48e-d781429839ec"
   },
   "outputs": [
    {
     "data": {
      "text/html": [
       "<div>\n",
       "<style scoped>\n",
       "    .dataframe tbody tr th:only-of-type {\n",
       "        vertical-align: middle;\n",
       "    }\n",
       "\n",
       "    .dataframe tbody tr th {\n",
       "        vertical-align: top;\n",
       "    }\n",
       "\n",
       "    .dataframe thead th {\n",
       "        text-align: right;\n",
       "    }\n",
       "</style>\n",
       "<table border=\"1\" class=\"dataframe\">\n",
       "  <thead>\n",
       "    <tr style=\"text-align: right;\">\n",
       "      <th></th>\n",
       "      <th>Customer ID</th>\n",
       "      <th>Name</th>\n",
       "      <th>Gender</th>\n",
       "      <th>Age</th>\n",
       "      <th>Income (USD)</th>\n",
       "      <th>Income Stability</th>\n",
       "      <th>Profession</th>\n",
       "      <th>Type of Employment</th>\n",
       "      <th>Location</th>\n",
       "      <th>Loan Amount Request (USD)</th>\n",
       "      <th>...</th>\n",
       "      <th>Credit Score</th>\n",
       "      <th>No. of Defaults</th>\n",
       "      <th>Has Active Credit Card</th>\n",
       "      <th>Property ID</th>\n",
       "      <th>Property Age</th>\n",
       "      <th>Property Type</th>\n",
       "      <th>Property Location</th>\n",
       "      <th>Co-Applicant</th>\n",
       "      <th>Property Price</th>\n",
       "      <th>Loan Sanction Amount (USD)</th>\n",
       "    </tr>\n",
       "  </thead>\n",
       "  <tbody>\n",
       "    <tr>\n",
       "      <th>0</th>\n",
       "      <td>C-36995</td>\n",
       "      <td>Frederica Shealy</td>\n",
       "      <td>F</td>\n",
       "      <td>56</td>\n",
       "      <td>1933.05</td>\n",
       "      <td>Low</td>\n",
       "      <td>Working</td>\n",
       "      <td>Sales staff</td>\n",
       "      <td>Semi-Urban</td>\n",
       "      <td>72809.58</td>\n",
       "      <td>...</td>\n",
       "      <td>809.44</td>\n",
       "      <td>0</td>\n",
       "      <td>NaN</td>\n",
       "      <td>746</td>\n",
       "      <td>1933.05</td>\n",
       "      <td>4</td>\n",
       "      <td>Rural</td>\n",
       "      <td>1</td>\n",
       "      <td>119933.46</td>\n",
       "      <td>54607.18</td>\n",
       "    </tr>\n",
       "    <tr>\n",
       "      <th>1</th>\n",
       "      <td>C-33999</td>\n",
       "      <td>America Calderone</td>\n",
       "      <td>M</td>\n",
       "      <td>32</td>\n",
       "      <td>4952.91</td>\n",
       "      <td>Low</td>\n",
       "      <td>Working</td>\n",
       "      <td>NaN</td>\n",
       "      <td>Semi-Urban</td>\n",
       "      <td>46837.47</td>\n",
       "      <td>...</td>\n",
       "      <td>780.40</td>\n",
       "      <td>0</td>\n",
       "      <td>Unpossessed</td>\n",
       "      <td>608</td>\n",
       "      <td>4952.91</td>\n",
       "      <td>2</td>\n",
       "      <td>Rural</td>\n",
       "      <td>1</td>\n",
       "      <td>54791.00</td>\n",
       "      <td>37469.98</td>\n",
       "    </tr>\n",
       "    <tr>\n",
       "      <th>2</th>\n",
       "      <td>C-3770</td>\n",
       "      <td>Rosetta Verne</td>\n",
       "      <td>F</td>\n",
       "      <td>65</td>\n",
       "      <td>988.19</td>\n",
       "      <td>High</td>\n",
       "      <td>Pensioner</td>\n",
       "      <td>NaN</td>\n",
       "      <td>Semi-Urban</td>\n",
       "      <td>45593.04</td>\n",
       "      <td>...</td>\n",
       "      <td>833.15</td>\n",
       "      <td>0</td>\n",
       "      <td>Unpossessed</td>\n",
       "      <td>546</td>\n",
       "      <td>988.19</td>\n",
       "      <td>2</td>\n",
       "      <td>Urban</td>\n",
       "      <td>0</td>\n",
       "      <td>72440.58</td>\n",
       "      <td>36474.43</td>\n",
       "    </tr>\n",
       "    <tr>\n",
       "      <th>3</th>\n",
       "      <td>C-26480</td>\n",
       "      <td>Zoe Chitty</td>\n",
       "      <td>F</td>\n",
       "      <td>65</td>\n",
       "      <td>NaN</td>\n",
       "      <td>High</td>\n",
       "      <td>Pensioner</td>\n",
       "      <td>NaN</td>\n",
       "      <td>Rural</td>\n",
       "      <td>80057.92</td>\n",
       "      <td>...</td>\n",
       "      <td>832.70</td>\n",
       "      <td>1</td>\n",
       "      <td>Unpossessed</td>\n",
       "      <td>890</td>\n",
       "      <td>NaN</td>\n",
       "      <td>2</td>\n",
       "      <td>Semi-Urban</td>\n",
       "      <td>1</td>\n",
       "      <td>121441.51</td>\n",
       "      <td>56040.54</td>\n",
       "    </tr>\n",
       "    <tr>\n",
       "      <th>4</th>\n",
       "      <td>C-23459</td>\n",
       "      <td>Afton Venema</td>\n",
       "      <td>F</td>\n",
       "      <td>31</td>\n",
       "      <td>2614.77</td>\n",
       "      <td>Low</td>\n",
       "      <td>Working</td>\n",
       "      <td>High skill tech staff</td>\n",
       "      <td>Semi-Urban</td>\n",
       "      <td>113858.89</td>\n",
       "      <td>...</td>\n",
       "      <td>745.55</td>\n",
       "      <td>1</td>\n",
       "      <td>Active</td>\n",
       "      <td>715</td>\n",
       "      <td>2614.77</td>\n",
       "      <td>4</td>\n",
       "      <td>Semi-Urban</td>\n",
       "      <td>1</td>\n",
       "      <td>208567.91</td>\n",
       "      <td>74008.28</td>\n",
       "    </tr>\n",
       "  </tbody>\n",
       "</table>\n",
       "<p>5 rows × 24 columns</p>\n",
       "</div>"
      ],
      "text/plain": [
       "  Customer ID               Name Gender  Age  Income (USD) Income Stability  \\\n",
       "0     C-36995   Frederica Shealy      F   56       1933.05              Low   \n",
       "1     C-33999  America Calderone      M   32       4952.91              Low   \n",
       "2      C-3770      Rosetta Verne      F   65        988.19             High   \n",
       "3     C-26480         Zoe Chitty      F   65           NaN             High   \n",
       "4     C-23459       Afton Venema      F   31       2614.77              Low   \n",
       "\n",
       "  Profession     Type of Employment    Location  Loan Amount Request (USD)  \\\n",
       "0    Working            Sales staff  Semi-Urban                   72809.58   \n",
       "1    Working                    NaN  Semi-Urban                   46837.47   \n",
       "2  Pensioner                    NaN  Semi-Urban                   45593.04   \n",
       "3  Pensioner                    NaN       Rural                   80057.92   \n",
       "4    Working  High skill tech staff  Semi-Urban                  113858.89   \n",
       "\n",
       "   ...  Credit Score No. of Defaults Has Active Credit Card  Property ID  \\\n",
       "0  ...        809.44               0                    NaN          746   \n",
       "1  ...        780.40               0            Unpossessed          608   \n",
       "2  ...        833.15               0            Unpossessed          546   \n",
       "3  ...        832.70               1            Unpossessed          890   \n",
       "4  ...        745.55               1                 Active          715   \n",
       "\n",
       "   Property Age  Property Type Property Location  Co-Applicant  \\\n",
       "0       1933.05              4             Rural             1   \n",
       "1       4952.91              2             Rural             1   \n",
       "2        988.19              2             Urban             0   \n",
       "3           NaN              2        Semi-Urban             1   \n",
       "4       2614.77              4        Semi-Urban             1   \n",
       "\n",
       "   Property Price  Loan Sanction Amount (USD)  \n",
       "0       119933.46                    54607.18  \n",
       "1        54791.00                    37469.98  \n",
       "2        72440.58                    36474.43  \n",
       "3       121441.51                    56040.54  \n",
       "4       208567.91                    74008.28  \n",
       "\n",
       "[5 rows x 24 columns]"
      ]
     },
     "execution_count": 2,
     "metadata": {},
     "output_type": "execute_result"
    }
   ],
   "source": [
    "#Loading the dataset\n",
    "df = pd.read_csv(\"train.csv\")\n",
    "df.head()"
   ]
  },
  {
   "cell_type": "code",
   "execution_count": 3,
   "metadata": {
    "colab": {
     "base_uri": "https://localhost:8080/",
     "height": 348
    },
    "id": "iPCS-FnjOAav",
    "outputId": "1d3fdd3c-0843-455a-b42d-8e43d2f3bfc3"
   },
   "outputs": [
    {
     "data": {
      "text/html": [
       "<div>\n",
       "<style scoped>\n",
       "    .dataframe tbody tr th:only-of-type {\n",
       "        vertical-align: middle;\n",
       "    }\n",
       "\n",
       "    .dataframe tbody tr th {\n",
       "        vertical-align: top;\n",
       "    }\n",
       "\n",
       "    .dataframe thead th {\n",
       "        text-align: right;\n",
       "    }\n",
       "</style>\n",
       "<table border=\"1\" class=\"dataframe\">\n",
       "  <thead>\n",
       "    <tr style=\"text-align: right;\">\n",
       "      <th></th>\n",
       "      <th>Age</th>\n",
       "      <th>Income (USD)</th>\n",
       "      <th>Loan Amount Request (USD)</th>\n",
       "      <th>Current Loan Expenses (USD)</th>\n",
       "      <th>Dependents</th>\n",
       "      <th>Credit Score</th>\n",
       "      <th>No. of Defaults</th>\n",
       "      <th>Property ID</th>\n",
       "      <th>Property Age</th>\n",
       "      <th>Property Type</th>\n",
       "      <th>Co-Applicant</th>\n",
       "      <th>Property Price</th>\n",
       "      <th>Loan Sanction Amount (USD)</th>\n",
       "    </tr>\n",
       "  </thead>\n",
       "  <tbody>\n",
       "    <tr>\n",
       "      <th>count</th>\n",
       "      <td>30000.000000</td>\n",
       "      <td>2.542400e+04</td>\n",
       "      <td>30000.000000</td>\n",
       "      <td>29828.000000</td>\n",
       "      <td>27507.000000</td>\n",
       "      <td>28297.000000</td>\n",
       "      <td>30000.000000</td>\n",
       "      <td>30000.000000</td>\n",
       "      <td>2.515000e+04</td>\n",
       "      <td>30000.000000</td>\n",
       "      <td>30000.000000</td>\n",
       "      <td>3.000000e+04</td>\n",
       "      <td>29660.000000</td>\n",
       "    </tr>\n",
       "    <tr>\n",
       "      <th>mean</th>\n",
       "      <td>40.092300</td>\n",
       "      <td>2.630574e+03</td>\n",
       "      <td>88826.333855</td>\n",
       "      <td>400.936876</td>\n",
       "      <td>2.253027</td>\n",
       "      <td>739.885381</td>\n",
       "      <td>0.193933</td>\n",
       "      <td>501.934700</td>\n",
       "      <td>2.631119e+03</td>\n",
       "      <td>2.460067</td>\n",
       "      <td>-4.743867</td>\n",
       "      <td>1.317597e+05</td>\n",
       "      <td>47649.342208</td>\n",
       "    </tr>\n",
       "    <tr>\n",
       "      <th>std</th>\n",
       "      <td>16.045129</td>\n",
       "      <td>1.126272e+04</td>\n",
       "      <td>59536.949605</td>\n",
       "      <td>242.545375</td>\n",
       "      <td>0.951162</td>\n",
       "      <td>72.163846</td>\n",
       "      <td>0.395384</td>\n",
       "      <td>288.158086</td>\n",
       "      <td>1.132268e+04</td>\n",
       "      <td>1.118562</td>\n",
       "      <td>74.614593</td>\n",
       "      <td>9.354955e+04</td>\n",
       "      <td>48221.146686</td>\n",
       "    </tr>\n",
       "    <tr>\n",
       "      <th>min</th>\n",
       "      <td>18.000000</td>\n",
       "      <td>3.777000e+02</td>\n",
       "      <td>6048.240000</td>\n",
       "      <td>-999.000000</td>\n",
       "      <td>1.000000</td>\n",
       "      <td>580.000000</td>\n",
       "      <td>0.000000</td>\n",
       "      <td>1.000000</td>\n",
       "      <td>3.777000e+02</td>\n",
       "      <td>1.000000</td>\n",
       "      <td>-999.000000</td>\n",
       "      <td>-9.990000e+02</td>\n",
       "      <td>-999.000000</td>\n",
       "    </tr>\n",
       "    <tr>\n",
       "      <th>25%</th>\n",
       "      <td>25.000000</td>\n",
       "      <td>1.650457e+03</td>\n",
       "      <td>41177.755000</td>\n",
       "      <td>247.667500</td>\n",
       "      <td>2.000000</td>\n",
       "      <td>681.880000</td>\n",
       "      <td>0.000000</td>\n",
       "      <td>251.000000</td>\n",
       "      <td>1.650450e+03</td>\n",
       "      <td>1.000000</td>\n",
       "      <td>1.000000</td>\n",
       "      <td>6.057216e+04</td>\n",
       "      <td>0.000000</td>\n",
       "    </tr>\n",
       "    <tr>\n",
       "      <th>50%</th>\n",
       "      <td>40.000000</td>\n",
       "      <td>2.222435e+03</td>\n",
       "      <td>75128.075000</td>\n",
       "      <td>375.205000</td>\n",
       "      <td>2.000000</td>\n",
       "      <td>739.820000</td>\n",
       "      <td>0.000000</td>\n",
       "      <td>504.000000</td>\n",
       "      <td>2.223250e+03</td>\n",
       "      <td>2.000000</td>\n",
       "      <td>1.000000</td>\n",
       "      <td>1.099936e+05</td>\n",
       "      <td>35209.395000</td>\n",
       "    </tr>\n",
       "    <tr>\n",
       "      <th>75%</th>\n",
       "      <td>55.000000</td>\n",
       "      <td>3.090593e+03</td>\n",
       "      <td>119964.605000</td>\n",
       "      <td>521.292500</td>\n",
       "      <td>3.000000</td>\n",
       "      <td>799.120000</td>\n",
       "      <td>0.000000</td>\n",
       "      <td>751.000000</td>\n",
       "      <td>3.091408e+03</td>\n",
       "      <td>3.000000</td>\n",
       "      <td>1.000000</td>\n",
       "      <td>1.788807e+05</td>\n",
       "      <td>74261.250000</td>\n",
       "    </tr>\n",
       "    <tr>\n",
       "      <th>max</th>\n",
       "      <td>65.000000</td>\n",
       "      <td>1.777460e+06</td>\n",
       "      <td>621497.820000</td>\n",
       "      <td>3840.880000</td>\n",
       "      <td>14.000000</td>\n",
       "      <td>896.260000</td>\n",
       "      <td>1.000000</td>\n",
       "      <td>999.000000</td>\n",
       "      <td>1.777460e+06</td>\n",
       "      <td>4.000000</td>\n",
       "      <td>1.000000</td>\n",
       "      <td>1.077967e+06</td>\n",
       "      <td>481907.320000</td>\n",
       "    </tr>\n",
       "  </tbody>\n",
       "</table>\n",
       "</div>"
      ],
      "text/plain": [
       "                Age  Income (USD)  Loan Amount Request (USD)  \\\n",
       "count  30000.000000  2.542400e+04               30000.000000   \n",
       "mean      40.092300  2.630574e+03               88826.333855   \n",
       "std       16.045129  1.126272e+04               59536.949605   \n",
       "min       18.000000  3.777000e+02                6048.240000   \n",
       "25%       25.000000  1.650457e+03               41177.755000   \n",
       "50%       40.000000  2.222435e+03               75128.075000   \n",
       "75%       55.000000  3.090593e+03              119964.605000   \n",
       "max       65.000000  1.777460e+06              621497.820000   \n",
       "\n",
       "       Current Loan Expenses (USD)    Dependents  Credit Score  \\\n",
       "count                 29828.000000  27507.000000  28297.000000   \n",
       "mean                    400.936876      2.253027    739.885381   \n",
       "std                     242.545375      0.951162     72.163846   \n",
       "min                    -999.000000      1.000000    580.000000   \n",
       "25%                     247.667500      2.000000    681.880000   \n",
       "50%                     375.205000      2.000000    739.820000   \n",
       "75%                     521.292500      3.000000    799.120000   \n",
       "max                    3840.880000     14.000000    896.260000   \n",
       "\n",
       "       No. of Defaults   Property ID  Property Age  Property Type  \\\n",
       "count     30000.000000  30000.000000  2.515000e+04   30000.000000   \n",
       "mean          0.193933    501.934700  2.631119e+03       2.460067   \n",
       "std           0.395384    288.158086  1.132268e+04       1.118562   \n",
       "min           0.000000      1.000000  3.777000e+02       1.000000   \n",
       "25%           0.000000    251.000000  1.650450e+03       1.000000   \n",
       "50%           0.000000    504.000000  2.223250e+03       2.000000   \n",
       "75%           0.000000    751.000000  3.091408e+03       3.000000   \n",
       "max           1.000000    999.000000  1.777460e+06       4.000000   \n",
       "\n",
       "       Co-Applicant  Property Price  Loan Sanction Amount (USD)  \n",
       "count  30000.000000    3.000000e+04                29660.000000  \n",
       "mean      -4.743867    1.317597e+05                47649.342208  \n",
       "std       74.614593    9.354955e+04                48221.146686  \n",
       "min     -999.000000   -9.990000e+02                 -999.000000  \n",
       "25%        1.000000    6.057216e+04                    0.000000  \n",
       "50%        1.000000    1.099936e+05                35209.395000  \n",
       "75%        1.000000    1.788807e+05                74261.250000  \n",
       "max        1.000000    1.077967e+06               481907.320000  "
      ]
     },
     "execution_count": 3,
     "metadata": {},
     "output_type": "execute_result"
    }
   ],
   "source": [
    "#Knowing the Information about the dataset\n",
    "df.describe()"
   ]
  },
  {
   "cell_type": "markdown",
   "metadata": {},
   "source": [
    "# Filling NaN values"
   ]
  },
  {
   "cell_type": "code",
   "execution_count": 4,
   "metadata": {
    "id": "twCL32EPODmt"
   },
   "outputs": [],
   "source": [
    "#Dropping the Unwanted features\n",
    "df = df.drop(['Customer ID','Name'],axis=1)"
   ]
  },
  {
   "cell_type": "code",
   "execution_count": 5,
   "metadata": {
    "id": "CBmtmgRbOLlJ"
   },
   "outputs": [],
   "source": [
    "#Filling NaN values\n",
    "df[\"Gender\"].fillna(\"unknown\", inplace = True)"
   ]
  },
  {
   "cell_type": "code",
   "execution_count": 6,
   "metadata": {
    "colab": {
     "base_uri": "https://localhost:8080/"
    },
    "id": "cHiltq3AOf3_",
    "outputId": "040ad9cf-09d1-4414-c25e-55d316e0fe27"
   },
   "outputs": [
    {
     "data": {
      "text/plain": [
       "False"
      ]
     },
     "execution_count": 6,
     "metadata": {},
     "output_type": "execute_result"
    }
   ],
   "source": [
    "df[\"Gender\"].isnull().values.any()"
   ]
  },
  {
   "cell_type": "code",
   "execution_count": 7,
   "metadata": {
    "colab": {
     "base_uri": "https://localhost:8080/"
    },
    "id": "j8PFp6WtOyC_",
    "outputId": "fe6e3253-7090-43c3-e5ea-238eedb62b12"
   },
   "outputs": [
    {
     "data": {
      "text/plain": [
       "False"
      ]
     },
     "execution_count": 7,
     "metadata": {},
     "output_type": "execute_result"
    }
   ],
   "source": [
    "z = df[\"Age\"].mode()\n",
    "df[\"Age\"].fillna(z, inplace = True)\n",
    "df[\"Age\"].isnull().values.any()"
   ]
  },
  {
   "cell_type": "code",
   "execution_count": 8,
   "metadata": {
    "id": "Cwha9_C-PQ7k"
   },
   "outputs": [],
   "source": [
    "z = df[\"Income (USD)\"].median()\n",
    "df[\"Income (USD)\"].fillna(z, inplace = True)"
   ]
  },
  {
   "cell_type": "code",
   "execution_count": 9,
   "metadata": {
    "colab": {
     "base_uri": "https://localhost:8080/"
    },
    "id": "4oeDE2S1Pc_W",
    "outputId": "c1d806a6-6dca-4b4d-c3cb-83ae61350029"
   },
   "outputs": [
    {
     "data": {
      "text/plain": [
       "False"
      ]
     },
     "execution_count": 9,
     "metadata": {},
     "output_type": "execute_result"
    }
   ],
   "source": [
    "df[\"Income (USD)\"].isnull().values.any()"
   ]
  },
  {
   "cell_type": "code",
   "execution_count": 10,
   "metadata": {
    "colab": {
     "base_uri": "https://localhost:8080/"
    },
    "id": "3cFqqvxOPvjf",
    "outputId": "bce83907-fff7-47db-f1a6-189e8745ff3b"
   },
   "outputs": [
    {
     "data": {
      "text/plain": [
       "False"
      ]
     },
     "execution_count": 10,
     "metadata": {},
     "output_type": "execute_result"
    }
   ],
   "source": [
    "df[\"Income Stability\"].fillna(\"unknown\", inplace = True)\n",
    "df[\"Income Stability\"].isnull().values.any()"
   ]
  },
  {
   "cell_type": "code",
   "execution_count": 11,
   "metadata": {
    "colab": {
     "base_uri": "https://localhost:8080/"
    },
    "id": "qubTWnzXQIV9",
    "outputId": "31b16391-7318-400f-a9e0-8161aabd3af8"
   },
   "outputs": [
    {
     "data": {
      "text/plain": [
       "False"
      ]
     },
     "execution_count": 11,
     "metadata": {},
     "output_type": "execute_result"
    }
   ],
   "source": [
    "z = df[\"Profession\"].mode()\n",
    "df[\"Profession\"].fillna(z, inplace = True)\n",
    "df[\"Profession\"].isnull().values.any()"
   ]
  },
  {
   "cell_type": "code",
   "execution_count": 12,
   "metadata": {
    "colab": {
     "base_uri": "https://localhost:8080/"
    },
    "id": "opjSlvtyQd_A",
    "outputId": "e48fe3ae-7053-451f-b022-9b788fabbfa3"
   },
   "outputs": [
    {
     "data": {
      "text/plain": [
       "False"
      ]
     },
     "execution_count": 12,
     "metadata": {},
     "output_type": "execute_result"
    }
   ],
   "source": [
    "df[\"Type of Employment\"].fillna(\"unknown\", inplace = True)\n",
    "df[\"Type of Employment\"].isnull().values.any()"
   ]
  },
  {
   "cell_type": "code",
   "execution_count": 13,
   "metadata": {
    "colab": {
     "base_uri": "https://localhost:8080/"
    },
    "id": "llOlUR97QqE-",
    "outputId": "7d52f68d-b39e-41cc-a7ac-624945ee3efa"
   },
   "outputs": [
    {
     "data": {
      "text/plain": [
       "False"
      ]
     },
     "execution_count": 13,
     "metadata": {},
     "output_type": "execute_result"
    }
   ],
   "source": [
    "z = df[\"Location\"].mode()\n",
    "df[\"Location\"].fillna(z, inplace = True)\n",
    "df[\"Location\"].isnull().values.any()"
   ]
  },
  {
   "cell_type": "code",
   "execution_count": 14,
   "metadata": {
    "colab": {
     "base_uri": "https://localhost:8080/"
    },
    "id": "ZsXKULihRhXu",
    "outputId": "4e5ff714-e1e7-42a9-924e-8d3e54394aef"
   },
   "outputs": [
    {
     "data": {
      "text/plain": [
       "False"
      ]
     },
     "execution_count": 14,
     "metadata": {},
     "output_type": "execute_result"
    }
   ],
   "source": [
    "z = df[\"Loan Amount Request (USD)\"].mode()\n",
    "df[\"Loan Amount Request (USD)\"].fillna(z, inplace = True)\n",
    "df[\"Loan Amount Request (USD)\"].isnull().values.any()"
   ]
  },
  {
   "cell_type": "code",
   "execution_count": 15,
   "metadata": {
    "colab": {
     "base_uri": "https://localhost:8080/"
    },
    "id": "NhnTQy2QRvEB",
    "outputId": "48fc86cc-7c52-49c3-ee53-0ef258a8ea4d"
   },
   "outputs": [
    {
     "data": {
      "text/plain": [
       "False"
      ]
     },
     "execution_count": 15,
     "metadata": {},
     "output_type": "execute_result"
    }
   ],
   "source": [
    "z = df[\"Current Loan Expenses (USD)\"].median()\n",
    "df[\"Current Loan Expenses (USD)\"].fillna(z, inplace = True)\n",
    "df[\"Current Loan Expenses (USD)\"].isnull().values.any()"
   ]
  },
  {
   "cell_type": "code",
   "execution_count": 16,
   "metadata": {
    "colab": {
     "base_uri": "https://localhost:8080/"
    },
    "id": "CLi_slVbR9rc",
    "outputId": "5b8325f7-8f0f-4eab-b4a4-30517f346815"
   },
   "outputs": [
    {
     "data": {
      "text/plain": [
       "False"
      ]
     },
     "execution_count": 16,
     "metadata": {},
     "output_type": "execute_result"
    }
   ],
   "source": [
    "z = df[\"Expense Type 1\"].mode()\n",
    "df[\"Expense Type 1\"].fillna(z, inplace = True)\n",
    "df[\"Expense Type 1\"].isnull().values.any()"
   ]
  },
  {
   "cell_type": "code",
   "execution_count": 17,
   "metadata": {
    "colab": {
     "base_uri": "https://localhost:8080/"
    },
    "id": "qhLj3sK-Shd0",
    "outputId": "2e0927e7-4b45-4421-ffc3-8f0d9808c2b2"
   },
   "outputs": [
    {
     "data": {
      "text/plain": [
       "False"
      ]
     },
     "execution_count": 17,
     "metadata": {},
     "output_type": "execute_result"
    }
   ],
   "source": [
    "z = df[\"Expense Type 2\"].mode()\n",
    "df[\"Expense Type 2\"].fillna(z, inplace = True)\n",
    "df[\"Expense Type 2\"].isnull().values.any()"
   ]
  },
  {
   "cell_type": "code",
   "execution_count": 18,
   "metadata": {
    "colab": {
     "base_uri": "https://localhost:8080/"
    },
    "id": "adxXt2G_SpO-",
    "outputId": "780670a9-7df5-47b3-a33e-81ba15162d0d"
   },
   "outputs": [
    {
     "data": {
      "text/plain": [
       "False"
      ]
     },
     "execution_count": 18,
     "metadata": {},
     "output_type": "execute_result"
    }
   ],
   "source": [
    "z = df[\"Dependents\"].median()\n",
    "df[\"Dependents\"].fillna(z, inplace = True)\n",
    "df[\"Dependents\"].isnull().values.any()"
   ]
  },
  {
   "cell_type": "code",
   "execution_count": 19,
   "metadata": {
    "colab": {
     "base_uri": "https://localhost:8080/"
    },
    "id": "-wuBucO7S4qQ",
    "outputId": "0f6ee12a-b65f-4c16-ccd4-04db5572d9f9"
   },
   "outputs": [
    {
     "data": {
      "text/plain": [
       "False"
      ]
     },
     "execution_count": 19,
     "metadata": {},
     "output_type": "execute_result"
    }
   ],
   "source": [
    "z = df[\"Credit Score\"].median()\n",
    "df[\"Credit Score\"].fillna(z, inplace = True)\n",
    "df[\"Credit Score\"].isnull().values.any()"
   ]
  },
  {
   "cell_type": "code",
   "execution_count": 20,
   "metadata": {
    "colab": {
     "base_uri": "https://localhost:8080/"
    },
    "id": "6zj7j3MsTTu8",
    "outputId": "38ac876a-2bbc-4d22-85a9-140e098122a0"
   },
   "outputs": [
    {
     "data": {
      "text/plain": [
       "False"
      ]
     },
     "execution_count": 20,
     "metadata": {},
     "output_type": "execute_result"
    }
   ],
   "source": [
    "z = df[\"No. of Defaults\"].mode()\n",
    "df[\"No. of Defaults\"].fillna(z, inplace = True)\n",
    "df[\"No. of Defaults\"].isnull().values.any()"
   ]
  },
  {
   "cell_type": "code",
   "execution_count": 21,
   "metadata": {
    "colab": {
     "base_uri": "https://localhost:8080/"
    },
    "id": "NZMFOdEmTmj_",
    "outputId": "8ff7f6ea-84f5-4143-8c18-c5cd878fc27f"
   },
   "outputs": [
    {
     "data": {
      "text/plain": [
       "False"
      ]
     },
     "execution_count": 21,
     "metadata": {},
     "output_type": "execute_result"
    }
   ],
   "source": [
    "\n",
    "df[\"Has Active Credit Card\"].fillna(\"unknown\", inplace = True)\n",
    "df[\"Has Active Credit Card\"].isnull().values.any()"
   ]
  },
  {
   "cell_type": "code",
   "execution_count": 22,
   "metadata": {
    "colab": {
     "base_uri": "https://localhost:8080/"
    },
    "id": "8mowe9VNT0zl",
    "outputId": "60832fb4-521f-4a99-b6c7-f32360b70282"
   },
   "outputs": [
    {
     "data": {
      "text/plain": [
       "False"
      ]
     },
     "execution_count": 22,
     "metadata": {},
     "output_type": "execute_result"
    }
   ],
   "source": [
    "z = df[\"Property Age\"].median()\n",
    "df[\"Property Age\"].fillna(z, inplace = True)\n",
    "df[\"Property Age\"].isnull().values.any()"
   ]
  },
  {
   "cell_type": "code",
   "execution_count": 23,
   "metadata": {
    "colab": {
     "base_uri": "https://localhost:8080/"
    },
    "id": "CzhjhZ4OUcUq",
    "outputId": "1fce4553-9a20-4020-eb78-0d405614989d"
   },
   "outputs": [
    {
     "data": {
      "text/plain": [
       "False"
      ]
     },
     "execution_count": 23,
     "metadata": {},
     "output_type": "execute_result"
    }
   ],
   "source": [
    "z = df[\"Property Type\"].mode()\n",
    "df[\"Property Type\"].fillna(z, inplace = True)\n",
    "df[\"Property Type\"].isnull().values.any()"
   ]
  },
  {
   "cell_type": "code",
   "execution_count": 24,
   "metadata": {
    "colab": {
     "base_uri": "https://localhost:8080/"
    },
    "id": "VhI9eXIbUvHS",
    "outputId": "d1672d32-504b-4e32-83e9-44234425bddc"
   },
   "outputs": [
    {
     "data": {
      "text/plain": [
       "False"
      ]
     },
     "execution_count": 24,
     "metadata": {},
     "output_type": "execute_result"
    }
   ],
   "source": [
    "df[\"Property Location\"].fillna(\"unknown\", inplace = True)\n",
    "df[\"Property Location\"].isnull().values.any()"
   ]
  },
  {
   "cell_type": "code",
   "execution_count": 25,
   "metadata": {
    "colab": {
     "base_uri": "https://localhost:8080/"
    },
    "id": "mSoL_XpYU_DA",
    "outputId": "ae0bed03-ad2f-4876-a295-ddea7095a91a"
   },
   "outputs": [
    {
     "data": {
      "text/plain": [
       "False"
      ]
     },
     "execution_count": 25,
     "metadata": {},
     "output_type": "execute_result"
    }
   ],
   "source": [
    "z = df[\"Co-Applicant\"].mode()\n",
    "df[\"Co-Applicant\"].fillna(z, inplace = True)\n",
    "df[\"Co-Applicant\"].isnull().values.any()"
   ]
  },
  {
   "cell_type": "code",
   "execution_count": 26,
   "metadata": {
    "colab": {
     "base_uri": "https://localhost:8080/"
    },
    "id": "6Cpc8rL9VTax",
    "outputId": "ec6a2139-61d1-4c58-89fa-7adc5ca424c9"
   },
   "outputs": [
    {
     "data": {
      "text/plain": [
       "False"
      ]
     },
     "execution_count": 26,
     "metadata": {},
     "output_type": "execute_result"
    }
   ],
   "source": [
    "z = df[\"Property Price\"].mode()\n",
    "df[\"Property Price\"].fillna(z, inplace = True)\n",
    "df[\"Property Price\"].isnull().values.any()"
   ]
  },
  {
   "cell_type": "code",
   "execution_count": 27,
   "metadata": {
    "colab": {
     "base_uri": "https://localhost:8080/"
    },
    "id": "4q9q9J9vVjB_",
    "outputId": "a0ae1794-7354-4eb8-eb84-f3fac05b1f0d"
   },
   "outputs": [
    {
     "data": {
      "text/plain": [
       "False"
      ]
     },
     "execution_count": 27,
     "metadata": {},
     "output_type": "execute_result"
    }
   ],
   "source": [
    "z = df[\"Loan Sanction Amount (USD)\"].median()\n",
    "df[\"Loan Sanction Amount (USD)\"].fillna(z, inplace = True)\n",
    "df[\"Loan Sanction Amount (USD)\"].isnull().values.any()"
   ]
  },
  {
   "cell_type": "code",
   "execution_count": 28,
   "metadata": {
    "colab": {
     "base_uri": "https://localhost:8080/",
     "height": 626
    },
    "id": "5LfehnevVyBS",
    "outputId": "a263b271-187c-438e-e60a-fa67b11cb7ed"
   },
   "outputs": [
    {
     "data": {
      "text/html": [
       "<div>\n",
       "<style scoped>\n",
       "    .dataframe tbody tr th:only-of-type {\n",
       "        vertical-align: middle;\n",
       "    }\n",
       "\n",
       "    .dataframe tbody tr th {\n",
       "        vertical-align: top;\n",
       "    }\n",
       "\n",
       "    .dataframe thead th {\n",
       "        text-align: right;\n",
       "    }\n",
       "</style>\n",
       "<table border=\"1\" class=\"dataframe\">\n",
       "  <thead>\n",
       "    <tr style=\"text-align: right;\">\n",
       "      <th></th>\n",
       "      <th>Gender</th>\n",
       "      <th>Age</th>\n",
       "      <th>Income (USD)</th>\n",
       "      <th>Income Stability</th>\n",
       "      <th>Profession</th>\n",
       "      <th>Type of Employment</th>\n",
       "      <th>Location</th>\n",
       "      <th>Loan Amount Request (USD)</th>\n",
       "      <th>Current Loan Expenses (USD)</th>\n",
       "      <th>Expense Type 1</th>\n",
       "      <th>...</th>\n",
       "      <th>Credit Score</th>\n",
       "      <th>No. of Defaults</th>\n",
       "      <th>Has Active Credit Card</th>\n",
       "      <th>Property ID</th>\n",
       "      <th>Property Age</th>\n",
       "      <th>Property Type</th>\n",
       "      <th>Property Location</th>\n",
       "      <th>Co-Applicant</th>\n",
       "      <th>Property Price</th>\n",
       "      <th>Loan Sanction Amount (USD)</th>\n",
       "    </tr>\n",
       "  </thead>\n",
       "  <tbody>\n",
       "    <tr>\n",
       "      <th>0</th>\n",
       "      <td>F</td>\n",
       "      <td>56</td>\n",
       "      <td>1933.050</td>\n",
       "      <td>Low</td>\n",
       "      <td>Working</td>\n",
       "      <td>Sales staff</td>\n",
       "      <td>Semi-Urban</td>\n",
       "      <td>72809.58</td>\n",
       "      <td>241.08</td>\n",
       "      <td>N</td>\n",
       "      <td>...</td>\n",
       "      <td>809.44</td>\n",
       "      <td>0</td>\n",
       "      <td>unknown</td>\n",
       "      <td>746</td>\n",
       "      <td>1933.05</td>\n",
       "      <td>4</td>\n",
       "      <td>Rural</td>\n",
       "      <td>1</td>\n",
       "      <td>119933.46</td>\n",
       "      <td>54607.18</td>\n",
       "    </tr>\n",
       "    <tr>\n",
       "      <th>1</th>\n",
       "      <td>M</td>\n",
       "      <td>32</td>\n",
       "      <td>4952.910</td>\n",
       "      <td>Low</td>\n",
       "      <td>Working</td>\n",
       "      <td>unknown</td>\n",
       "      <td>Semi-Urban</td>\n",
       "      <td>46837.47</td>\n",
       "      <td>495.81</td>\n",
       "      <td>N</td>\n",
       "      <td>...</td>\n",
       "      <td>780.40</td>\n",
       "      <td>0</td>\n",
       "      <td>Unpossessed</td>\n",
       "      <td>608</td>\n",
       "      <td>4952.91</td>\n",
       "      <td>2</td>\n",
       "      <td>Rural</td>\n",
       "      <td>1</td>\n",
       "      <td>54791.00</td>\n",
       "      <td>37469.98</td>\n",
       "    </tr>\n",
       "    <tr>\n",
       "      <th>2</th>\n",
       "      <td>F</td>\n",
       "      <td>65</td>\n",
       "      <td>988.190</td>\n",
       "      <td>High</td>\n",
       "      <td>Pensioner</td>\n",
       "      <td>unknown</td>\n",
       "      <td>Semi-Urban</td>\n",
       "      <td>45593.04</td>\n",
       "      <td>171.95</td>\n",
       "      <td>N</td>\n",
       "      <td>...</td>\n",
       "      <td>833.15</td>\n",
       "      <td>0</td>\n",
       "      <td>Unpossessed</td>\n",
       "      <td>546</td>\n",
       "      <td>988.19</td>\n",
       "      <td>2</td>\n",
       "      <td>Urban</td>\n",
       "      <td>0</td>\n",
       "      <td>72440.58</td>\n",
       "      <td>36474.43</td>\n",
       "    </tr>\n",
       "    <tr>\n",
       "      <th>3</th>\n",
       "      <td>F</td>\n",
       "      <td>65</td>\n",
       "      <td>2222.435</td>\n",
       "      <td>High</td>\n",
       "      <td>Pensioner</td>\n",
       "      <td>unknown</td>\n",
       "      <td>Rural</td>\n",
       "      <td>80057.92</td>\n",
       "      <td>298.54</td>\n",
       "      <td>N</td>\n",
       "      <td>...</td>\n",
       "      <td>832.70</td>\n",
       "      <td>1</td>\n",
       "      <td>Unpossessed</td>\n",
       "      <td>890</td>\n",
       "      <td>2223.25</td>\n",
       "      <td>2</td>\n",
       "      <td>Semi-Urban</td>\n",
       "      <td>1</td>\n",
       "      <td>121441.51</td>\n",
       "      <td>56040.54</td>\n",
       "    </tr>\n",
       "    <tr>\n",
       "      <th>4</th>\n",
       "      <td>F</td>\n",
       "      <td>31</td>\n",
       "      <td>2614.770</td>\n",
       "      <td>Low</td>\n",
       "      <td>Working</td>\n",
       "      <td>High skill tech staff</td>\n",
       "      <td>Semi-Urban</td>\n",
       "      <td>113858.89</td>\n",
       "      <td>491.41</td>\n",
       "      <td>N</td>\n",
       "      <td>...</td>\n",
       "      <td>745.55</td>\n",
       "      <td>1</td>\n",
       "      <td>Active</td>\n",
       "      <td>715</td>\n",
       "      <td>2614.77</td>\n",
       "      <td>4</td>\n",
       "      <td>Semi-Urban</td>\n",
       "      <td>1</td>\n",
       "      <td>208567.91</td>\n",
       "      <td>74008.28</td>\n",
       "    </tr>\n",
       "    <tr>\n",
       "      <th>...</th>\n",
       "      <td>...</td>\n",
       "      <td>...</td>\n",
       "      <td>...</td>\n",
       "      <td>...</td>\n",
       "      <td>...</td>\n",
       "      <td>...</td>\n",
       "      <td>...</td>\n",
       "      <td>...</td>\n",
       "      <td>...</td>\n",
       "      <td>...</td>\n",
       "      <td>...</td>\n",
       "      <td>...</td>\n",
       "      <td>...</td>\n",
       "      <td>...</td>\n",
       "      <td>...</td>\n",
       "      <td>...</td>\n",
       "      <td>...</td>\n",
       "      <td>...</td>\n",
       "      <td>...</td>\n",
       "      <td>...</td>\n",
       "      <td>...</td>\n",
       "    </tr>\n",
       "    <tr>\n",
       "      <th>29995</th>\n",
       "      <td>M</td>\n",
       "      <td>38</td>\n",
       "      <td>4969.410</td>\n",
       "      <td>Low</td>\n",
       "      <td>Commercial associate</td>\n",
       "      <td>Managers</td>\n",
       "      <td>Urban</td>\n",
       "      <td>76657.90</td>\n",
       "      <td>722.34</td>\n",
       "      <td>Y</td>\n",
       "      <td>...</td>\n",
       "      <td>869.61</td>\n",
       "      <td>0</td>\n",
       "      <td>Unpossessed</td>\n",
       "      <td>566</td>\n",
       "      <td>4969.41</td>\n",
       "      <td>4</td>\n",
       "      <td>Urban</td>\n",
       "      <td>1</td>\n",
       "      <td>111096.56</td>\n",
       "      <td>68992.11</td>\n",
       "    </tr>\n",
       "    <tr>\n",
       "      <th>29996</th>\n",
       "      <td>M</td>\n",
       "      <td>20</td>\n",
       "      <td>1606.880</td>\n",
       "      <td>Low</td>\n",
       "      <td>Working</td>\n",
       "      <td>Laborers</td>\n",
       "      <td>Semi-Urban</td>\n",
       "      <td>66595.14</td>\n",
       "      <td>253.04</td>\n",
       "      <td>N</td>\n",
       "      <td>...</td>\n",
       "      <td>729.41</td>\n",
       "      <td>0</td>\n",
       "      <td>Inactive</td>\n",
       "      <td>175</td>\n",
       "      <td>1606.88</td>\n",
       "      <td>3</td>\n",
       "      <td>Urban</td>\n",
       "      <td>1</td>\n",
       "      <td>73453.94</td>\n",
       "      <td>46616.60</td>\n",
       "    </tr>\n",
       "    <tr>\n",
       "      <th>29997</th>\n",
       "      <td>F</td>\n",
       "      <td>49</td>\n",
       "      <td>2222.435</td>\n",
       "      <td>Low</td>\n",
       "      <td>Working</td>\n",
       "      <td>Sales staff</td>\n",
       "      <td>Urban</td>\n",
       "      <td>81410.08</td>\n",
       "      <td>583.11</td>\n",
       "      <td>N</td>\n",
       "      <td>...</td>\n",
       "      <td>739.82</td>\n",
       "      <td>0</td>\n",
       "      <td>Active</td>\n",
       "      <td>959</td>\n",
       "      <td>2223.25</td>\n",
       "      <td>1</td>\n",
       "      <td>Rural</td>\n",
       "      <td>1</td>\n",
       "      <td>102108.02</td>\n",
       "      <td>61057.56</td>\n",
       "    </tr>\n",
       "    <tr>\n",
       "      <th>29998</th>\n",
       "      <td>M</td>\n",
       "      <td>38</td>\n",
       "      <td>2417.710</td>\n",
       "      <td>Low</td>\n",
       "      <td>Working</td>\n",
       "      <td>Security staff</td>\n",
       "      <td>Semi-Urban</td>\n",
       "      <td>142524.10</td>\n",
       "      <td>378.29</td>\n",
       "      <td>N</td>\n",
       "      <td>...</td>\n",
       "      <td>677.27</td>\n",
       "      <td>1</td>\n",
       "      <td>Unpossessed</td>\n",
       "      <td>375</td>\n",
       "      <td>2417.71</td>\n",
       "      <td>4</td>\n",
       "      <td>Urban</td>\n",
       "      <td>1</td>\n",
       "      <td>168194.47</td>\n",
       "      <td>99766.87</td>\n",
       "    </tr>\n",
       "    <tr>\n",
       "      <th>29999</th>\n",
       "      <td>F</td>\n",
       "      <td>63</td>\n",
       "      <td>3068.240</td>\n",
       "      <td>High</td>\n",
       "      <td>Pensioner</td>\n",
       "      <td>unknown</td>\n",
       "      <td>Rural</td>\n",
       "      <td>156290.54</td>\n",
       "      <td>693.94</td>\n",
       "      <td>N</td>\n",
       "      <td>...</td>\n",
       "      <td>815.44</td>\n",
       "      <td>0</td>\n",
       "      <td>Active</td>\n",
       "      <td>344</td>\n",
       "      <td>3068.24</td>\n",
       "      <td>3</td>\n",
       "      <td>Rural</td>\n",
       "      <td>1</td>\n",
       "      <td>194512.60</td>\n",
       "      <td>117217.90</td>\n",
       "    </tr>\n",
       "  </tbody>\n",
       "</table>\n",
       "<p>30000 rows × 22 columns</p>\n",
       "</div>"
      ],
      "text/plain": [
       "      Gender  Age  Income (USD) Income Stability            Profession  \\\n",
       "0          F   56      1933.050              Low               Working   \n",
       "1          M   32      4952.910              Low               Working   \n",
       "2          F   65       988.190             High             Pensioner   \n",
       "3          F   65      2222.435             High             Pensioner   \n",
       "4          F   31      2614.770              Low               Working   \n",
       "...      ...  ...           ...              ...                   ...   \n",
       "29995      M   38      4969.410              Low  Commercial associate   \n",
       "29996      M   20      1606.880              Low               Working   \n",
       "29997      F   49      2222.435              Low               Working   \n",
       "29998      M   38      2417.710              Low               Working   \n",
       "29999      F   63      3068.240             High             Pensioner   \n",
       "\n",
       "          Type of Employment    Location  Loan Amount Request (USD)  \\\n",
       "0                Sales staff  Semi-Urban                   72809.58   \n",
       "1                    unknown  Semi-Urban                   46837.47   \n",
       "2                    unknown  Semi-Urban                   45593.04   \n",
       "3                    unknown       Rural                   80057.92   \n",
       "4      High skill tech staff  Semi-Urban                  113858.89   \n",
       "...                      ...         ...                        ...   \n",
       "29995               Managers       Urban                   76657.90   \n",
       "29996               Laborers  Semi-Urban                   66595.14   \n",
       "29997            Sales staff       Urban                   81410.08   \n",
       "29998         Security staff  Semi-Urban                  142524.10   \n",
       "29999                unknown       Rural                  156290.54   \n",
       "\n",
       "       Current Loan Expenses (USD) Expense Type 1  ... Credit Score  \\\n",
       "0                           241.08              N  ...       809.44   \n",
       "1                           495.81              N  ...       780.40   \n",
       "2                           171.95              N  ...       833.15   \n",
       "3                           298.54              N  ...       832.70   \n",
       "4                           491.41              N  ...       745.55   \n",
       "...                            ...            ...  ...          ...   \n",
       "29995                       722.34              Y  ...       869.61   \n",
       "29996                       253.04              N  ...       729.41   \n",
       "29997                       583.11              N  ...       739.82   \n",
       "29998                       378.29              N  ...       677.27   \n",
       "29999                       693.94              N  ...       815.44   \n",
       "\n",
       "       No. of Defaults  Has Active Credit Card  Property ID Property Age  \\\n",
       "0                    0                 unknown          746      1933.05   \n",
       "1                    0             Unpossessed          608      4952.91   \n",
       "2                    0             Unpossessed          546       988.19   \n",
       "3                    1             Unpossessed          890      2223.25   \n",
       "4                    1                  Active          715      2614.77   \n",
       "...                ...                     ...          ...          ...   \n",
       "29995                0             Unpossessed          566      4969.41   \n",
       "29996                0                Inactive          175      1606.88   \n",
       "29997                0                  Active          959      2223.25   \n",
       "29998                1             Unpossessed          375      2417.71   \n",
       "29999                0                  Active          344      3068.24   \n",
       "\n",
       "       Property Type  Property Location  Co-Applicant Property Price  \\\n",
       "0                  4              Rural             1      119933.46   \n",
       "1                  2              Rural             1       54791.00   \n",
       "2                  2              Urban             0       72440.58   \n",
       "3                  2         Semi-Urban             1      121441.51   \n",
       "4                  4         Semi-Urban             1      208567.91   \n",
       "...              ...                ...           ...            ...   \n",
       "29995              4              Urban             1      111096.56   \n",
       "29996              3              Urban             1       73453.94   \n",
       "29997              1              Rural             1      102108.02   \n",
       "29998              4              Urban             1      168194.47   \n",
       "29999              3              Rural             1      194512.60   \n",
       "\n",
       "       Loan Sanction Amount (USD)  \n",
       "0                        54607.18  \n",
       "1                        37469.98  \n",
       "2                        36474.43  \n",
       "3                        56040.54  \n",
       "4                        74008.28  \n",
       "...                           ...  \n",
       "29995                    68992.11  \n",
       "29996                    46616.60  \n",
       "29997                    61057.56  \n",
       "29998                    99766.87  \n",
       "29999                   117217.90  \n",
       "\n",
       "[30000 rows x 22 columns]"
      ]
     },
     "execution_count": 28,
     "metadata": {},
     "output_type": "execute_result"
    }
   ],
   "source": [
    "df"
   ]
  },
  {
   "cell_type": "code",
   "execution_count": 29,
   "metadata": {
    "colab": {
     "base_uri": "https://localhost:8080/"
    },
    "id": "iTnwNK9AV2N4",
    "outputId": "97cabde1-3d89-4b30-b6d4-7bd65888e204"
   },
   "outputs": [
    {
     "data": {
      "text/plain": [
       "Gender                         0\n",
       "Age                            0\n",
       "Income (USD)                   0\n",
       "Income Stability               0\n",
       "Profession                     0\n",
       "Type of Employment             0\n",
       "Location                       0\n",
       "Loan Amount Request (USD)      0\n",
       "Current Loan Expenses (USD)    0\n",
       "Expense Type 1                 0\n",
       "Expense Type 2                 0\n",
       "Dependents                     0\n",
       "Credit Score                   0\n",
       "No. of Defaults                0\n",
       "Has Active Credit Card         0\n",
       "Property ID                    0\n",
       "Property Age                   0\n",
       "Property Type                  0\n",
       "Property Location              0\n",
       "Co-Applicant                   0\n",
       "Property Price                 0\n",
       "Loan Sanction Amount (USD)     0\n",
       "dtype: int64"
      ]
     },
     "execution_count": 29,
     "metadata": {},
     "output_type": "execute_result"
    }
   ],
   "source": [
    "#Checking all values are filled\n",
    "df.isnull().sum()"
   ]
  },
  {
   "cell_type": "markdown",
   "metadata": {},
   "source": [
    "# Using Label Encoders to Encode String data"
   ]
  },
  {
   "cell_type": "code",
   "execution_count": 30,
   "metadata": {
    "id": "JncZPb7IV5-c"
   },
   "outputs": [],
   "source": [
    "# label_encoder object knows how to understand word labels.\n",
    "label_encoder = preprocessing.LabelEncoder()"
   ]
  },
  {
   "cell_type": "code",
   "execution_count": 31,
   "metadata": {
    "colab": {
     "base_uri": "https://localhost:8080/"
    },
    "id": "iQYbJQ6zePbE",
    "outputId": "351a8fb2-e238-4f06-a1f4-27ef485fa976"
   },
   "outputs": [
    {
     "data": {
      "text/plain": [
       "array([0, 1, 2])"
      ]
     },
     "execution_count": 31,
     "metadata": {},
     "output_type": "execute_result"
    }
   ],
   "source": [
    "# Encode labels in column 'Gender'.\n",
    "df['Gender']= label_encoder.fit_transform(df['Gender'])\n",
    "df['Gender'].unique()"
   ]
  },
  {
   "cell_type": "code",
   "execution_count": 32,
   "metadata": {
    "colab": {
     "base_uri": "https://localhost:8080/"
    },
    "id": "CDErDORNeWtX",
    "outputId": "53343737-a03e-483b-8195-7b8649368d83"
   },
   "outputs": [
    {
     "data": {
      "text/plain": [
       "array([1, 0, 2])"
      ]
     },
     "execution_count": 32,
     "metadata": {},
     "output_type": "execute_result"
    }
   ],
   "source": [
    "df['Income Stability']= label_encoder.fit_transform(df['Income Stability'])\n",
    "df['Income Stability'].unique()"
   ]
  },
  {
   "cell_type": "code",
   "execution_count": 33,
   "metadata": {
    "colab": {
     "base_uri": "https://localhost:8080/"
    },
    "id": "KR4-GJ6YecWI",
    "outputId": "25a4dcc2-3445-4079-9d95-6e83c5e8cc55"
   },
   "outputs": [
    {
     "data": {
      "text/plain": [
       "array([7, 3, 4, 1, 6, 5, 0, 2])"
      ]
     },
     "execution_count": 33,
     "metadata": {},
     "output_type": "execute_result"
    }
   ],
   "source": [
    "df['Profession']= label_encoder.fit_transform(df['Profession'])\n",
    "df['Profession'].unique()"
   ]
  },
  {
   "cell_type": "code",
   "execution_count": 34,
   "metadata": {
    "colab": {
     "base_uri": "https://localhost:8080/"
    },
    "id": "J-pC6hgae860",
    "outputId": "a237dceb-e5f9-41ac-80a7-6f9adbab78f2"
   },
   "outputs": [
    {
     "data": {
      "text/plain": [
       "array([14, 18,  6, 15,  8, 10,  2,  3,  4, 13, 16,  0, 12, 17, 11,  1,  9,\n",
       "        5,  7])"
      ]
     },
     "execution_count": 34,
     "metadata": {},
     "output_type": "execute_result"
    }
   ],
   "source": [
    "df['Type of Employment']= label_encoder.fit_transform(df['Type of Employment'])\n",
    "df['Type of Employment'].unique()"
   ]
  },
  {
   "cell_type": "code",
   "execution_count": 35,
   "metadata": {
    "colab": {
     "base_uri": "https://localhost:8080/"
    },
    "id": "T__To7_GfNgO",
    "outputId": "a339e222-99e4-4f25-858a-8381ae576f03"
   },
   "outputs": [
    {
     "data": {
      "text/plain": [
       "array([1, 0, 2])"
      ]
     },
     "execution_count": 35,
     "metadata": {},
     "output_type": "execute_result"
    }
   ],
   "source": [
    "df['Location']= label_encoder.fit_transform(df['Location'])\n",
    "df['Location'].unique()"
   ]
  },
  {
   "cell_type": "code",
   "execution_count": 36,
   "metadata": {
    "colab": {
     "base_uri": "https://localhost:8080/"
    },
    "id": "jQaX8-9SfnHW",
    "outputId": "184fbe70-4164-4134-fcd2-86257b8b7e54"
   },
   "outputs": [
    {
     "data": {
      "text/plain": [
       "array([3, 2, 0, 1])"
      ]
     },
     "execution_count": 36,
     "metadata": {},
     "output_type": "execute_result"
    }
   ],
   "source": [
    "df['Has Active Credit Card']= label_encoder.fit_transform(df['Has Active Credit Card'])\n",
    "df['Has Active Credit Card'].unique()"
   ]
  },
  {
   "cell_type": "code",
   "execution_count": 37,
   "metadata": {
    "colab": {
     "base_uri": "https://localhost:8080/"
    },
    "id": "BuhQReO9f2TC",
    "outputId": "e0838698-3dc0-4c44-b275-b8be1543b267"
   },
   "outputs": [
    {
     "data": {
      "text/plain": [
       "array([0, 2, 1, 3])"
      ]
     },
     "execution_count": 37,
     "metadata": {},
     "output_type": "execute_result"
    }
   ],
   "source": [
    "df['Property Location']= label_encoder.fit_transform(df['Property Location'])\n",
    "df['Property Location'].unique()"
   ]
  },
  {
   "cell_type": "code",
   "execution_count": 38,
   "metadata": {
    "colab": {
     "base_uri": "https://localhost:8080/"
    },
    "id": "X7kP2iibgYMP",
    "outputId": "50f08d37-b35d-487f-97f7-895a81d27b92"
   },
   "outputs": [
    {
     "data": {
      "text/plain": [
       "array([0, 1])"
      ]
     },
     "execution_count": 38,
     "metadata": {},
     "output_type": "execute_result"
    }
   ],
   "source": [
    "df['Expense Type 1']= label_encoder.fit_transform(df['Expense Type 1'])\n",
    "df['Expense Type 1'].unique()"
   ]
  },
  {
   "cell_type": "code",
   "execution_count": 39,
   "metadata": {
    "colab": {
     "base_uri": "https://localhost:8080/"
    },
    "id": "vt_vHu4RgmjQ",
    "outputId": "5a9bb2c9-49a3-44eb-ee3d-360fb7d1b9e8"
   },
   "outputs": [
    {
     "data": {
      "text/plain": [
       "array([0, 1])"
      ]
     },
     "execution_count": 39,
     "metadata": {},
     "output_type": "execute_result"
    }
   ],
   "source": [
    "df['Expense Type 2']= label_encoder.fit_transform(df['Expense Type 2'])\n",
    "df['Expense Type 2'].unique()"
   ]
  },
  {
   "cell_type": "code",
   "execution_count": 40,
   "metadata": {
    "id": "Sn4SGU8SgrtY"
   },
   "outputs": [],
   "source": [
    "df = df.drop(['Property ID'],axis=1)"
   ]
  },
  {
   "cell_type": "markdown",
   "metadata": {},
   "source": [
    "# Data Analysis"
   ]
  },
  {
   "cell_type": "code",
   "execution_count": 302,
   "metadata": {
    "colab": {
     "base_uri": "https://localhost:8080/",
     "height": 606
    },
    "id": "mrX7EE2qhB-M",
    "outputId": "0a3b7551-9c78-4166-ed04-44ed72889a3d"
   },
   "outputs": [
    {
     "data": {
      "image/png": "[encoded data removed]",
      "text/plain": [
       "<Figure size 1440x720 with 22 Axes>"
      ]
     },
     "metadata": {
      "needs_background": "light",
      "tags": []
     },
     "output_type": "display_data"
    }
   ],
   "source": [
    "\n",
    "fig,ax = plt.subplots(ncols=11,nrows=2,figsize=(20,10))\n",
    "index = 0\n",
    "ax = ax.flatten()\n",
    "\n",
    "for col,value in df.items():\n",
    "  sns.boxplot(value,ax=ax[index])\n",
    "  index +=1\n",
    "plt.tight_layout(pad=0.5,w_pad=10.0,h_pad=5.0)"
   ]
  },
  {
   "cell_type": "markdown",
   "metadata": {},
   "source": [
    "# Checking the NormalDistribution"
   ]
  },
  {
   "cell_type": "code",
   "execution_count": 303,
   "metadata": {
    "colab": {
     "base_uri": "https://localhost:8080/",
     "height": 616
    },
    "id": "LmRI119fhQdr",
    "outputId": "35a46923-28b2-48f0-9fd8-1a80e33e7df4"
   },
   "outputs": [
    {
     "data": {
      "image/png": "[encoded data removed]",
      "text/plain": [
       "<Figure size 1440x720 with 22 Axes>"
      ]
     },
     "metadata": {
      "needs_background": "light",
      "tags": []
     },
     "output_type": "display_data"
    }
   ],
   "source": [
    "fig,ax = plt.subplots(ncols=11,nrows=2,figsize=(20,10))\n",
    "index = 0\n",
    "ax = ax.flatten()\n",
    "\n",
    "for col,value in df.items():\n",
    "  sns.distplot(value,ax=ax[index])\n",
    "  index +=1\n",
    "plt.tight_layout(pad=0.5,w_pad=10.0,h_pad=5.0)"
   ]
  },
  {
   "cell_type": "markdown",
   "metadata": {},
   "source": [
    "# Using Smogn to Undersample"
   ]
  },
  {
   "cell_type": "code",
   "execution_count": 305,
   "metadata": {
    "colab": {
     "base_uri": "https://localhost:8080/"
    },
    "id": "9ySqdby-wJ4L",
    "outputId": "054c21a0-3dc8-403b-df39-602b53a09f70"
   },
   "outputs": [
    {
     "name": "stderr",
     "output_type": "stream",
     "text": [
      "dist_matrix: 100%|##########| 3386/3386 [1:45:05<00:00,  1.86s/it]\n",
      "synth_matrix: 100%|##########| 3386/3386 [00:25<00:00, 132.59it/s]\n",
      "r_index: 100%|##########| 1455/1455 [00:03<00:00, 391.26it/s]\n"
     ]
    }
   ],
   "source": [
    "cleaned = smogn.smoter(data=df,y=\"Loan Sanction Amount (USD)\")"
   ]
  },
  {
   "cell_type": "code",
   "execution_count": 2,
   "metadata": {},
   "outputs": [],
   "source": [
    "cleaned = pd.read_csv(\"/home/sreebalaji/Downloads/data.csv\")\n",
    "cleaned = cleaned.drop(['Unnamed: 0'],axis=1)"
   ]
  },
  {
   "cell_type": "code",
   "execution_count": 3,
   "metadata": {},
   "outputs": [
    {
     "data": {
      "text/html": [
       "<div>\n",
       "<style scoped>\n",
       "    .dataframe tbody tr th:only-of-type {\n",
       "        vertical-align: middle;\n",
       "    }\n",
       "\n",
       "    .dataframe tbody tr th {\n",
       "        vertical-align: top;\n",
       "    }\n",
       "\n",
       "    .dataframe thead th {\n",
       "        text-align: right;\n",
       "    }\n",
       "</style>\n",
       "<table border=\"1\" class=\"dataframe\">\n",
       "  <thead>\n",
       "    <tr style=\"text-align: right;\">\n",
       "      <th></th>\n",
       "      <th>Gender</th>\n",
       "      <th>Age</th>\n",
       "      <th>Income (USD)</th>\n",
       "      <th>Income Stability</th>\n",
       "      <th>Profession</th>\n",
       "      <th>Type of Employment</th>\n",
       "      <th>Location</th>\n",
       "      <th>Loan Amount Request (USD)</th>\n",
       "      <th>Current Loan Expenses (USD)</th>\n",
       "      <th>Expense Type 1</th>\n",
       "      <th>...</th>\n",
       "      <th>Dependents</th>\n",
       "      <th>Credit Score</th>\n",
       "      <th>No. of Defaults</th>\n",
       "      <th>Has Active Credit Card</th>\n",
       "      <th>Property Age</th>\n",
       "      <th>Property Type</th>\n",
       "      <th>Property Location</th>\n",
       "      <th>Co-Applicant</th>\n",
       "      <th>Property Price</th>\n",
       "      <th>Loan Sanction Amount (USD)</th>\n",
       "    </tr>\n",
       "  </thead>\n",
       "  <tbody>\n",
       "    <tr>\n",
       "      <th>0</th>\n",
       "      <td>0</td>\n",
       "      <td>39</td>\n",
       "      <td>1995.780213</td>\n",
       "      <td>1</td>\n",
       "      <td>6</td>\n",
       "      <td>2</td>\n",
       "      <td>0</td>\n",
       "      <td>137215.509210</td>\n",
       "      <td>535.546731</td>\n",
       "      <td>0</td>\n",
       "      <td>...</td>\n",
       "      <td>1.229363</td>\n",
       "      <td>770.612178</td>\n",
       "      <td>0</td>\n",
       "      <td>0</td>\n",
       "      <td>1995.780213</td>\n",
       "      <td>2</td>\n",
       "      <td>1</td>\n",
       "      <td>1</td>\n",
       "      <td>206706.258792</td>\n",
       "      <td>109896.909804</td>\n",
       "    </tr>\n",
       "    <tr>\n",
       "      <th>1</th>\n",
       "      <td>0</td>\n",
       "      <td>38</td>\n",
       "      <td>2215.728598</td>\n",
       "      <td>1</td>\n",
       "      <td>4</td>\n",
       "      <td>5</td>\n",
       "      <td>1</td>\n",
       "      <td>137867.330913</td>\n",
       "      <td>489.343295</td>\n",
       "      <td>0</td>\n",
       "      <td>...</td>\n",
       "      <td>1.350413</td>\n",
       "      <td>773.857101</td>\n",
       "      <td>0</td>\n",
       "      <td>0</td>\n",
       "      <td>2215.728598</td>\n",
       "      <td>1</td>\n",
       "      <td>1</td>\n",
       "      <td>1</td>\n",
       "      <td>208023.589917</td>\n",
       "      <td>110554.441549</td>\n",
       "    </tr>\n",
       "    <tr>\n",
       "      <th>2</th>\n",
       "      <td>0</td>\n",
       "      <td>38</td>\n",
       "      <td>1895.260967</td>\n",
       "      <td>1</td>\n",
       "      <td>5</td>\n",
       "      <td>1</td>\n",
       "      <td>0</td>\n",
       "      <td>137428.771816</td>\n",
       "      <td>531.756480</td>\n",
       "      <td>0</td>\n",
       "      <td>...</td>\n",
       "      <td>1.598784</td>\n",
       "      <td>775.093246</td>\n",
       "      <td>0</td>\n",
       "      <td>0</td>\n",
       "      <td>1895.260967</td>\n",
       "      <td>2</td>\n",
       "      <td>1</td>\n",
       "      <td>1</td>\n",
       "      <td>206464.210961</td>\n",
       "      <td>109896.909804</td>\n",
       "    </tr>\n",
       "    <tr>\n",
       "      <th>3</th>\n",
       "      <td>0</td>\n",
       "      <td>21</td>\n",
       "      <td>3315.697395</td>\n",
       "      <td>1</td>\n",
       "      <td>6</td>\n",
       "      <td>9</td>\n",
       "      <td>1</td>\n",
       "      <td>158379.762544</td>\n",
       "      <td>676.456083</td>\n",
       "      <td>0</td>\n",
       "      <td>...</td>\n",
       "      <td>1.961777</td>\n",
       "      <td>742.855857</td>\n",
       "      <td>0</td>\n",
       "      <td>1</td>\n",
       "      <td>3315.697395</td>\n",
       "      <td>4</td>\n",
       "      <td>0</td>\n",
       "      <td>1</td>\n",
       "      <td>248846.969491</td>\n",
       "      <td>110286.677675</td>\n",
       "    </tr>\n",
       "    <tr>\n",
       "      <th>4</th>\n",
       "      <td>0</td>\n",
       "      <td>18</td>\n",
       "      <td>3114.429828</td>\n",
       "      <td>1</td>\n",
       "      <td>4</td>\n",
       "      <td>3</td>\n",
       "      <td>0</td>\n",
       "      <td>156805.547489</td>\n",
       "      <td>478.627249</td>\n",
       "      <td>0</td>\n",
       "      <td>...</td>\n",
       "      <td>1.077784</td>\n",
       "      <td>847.989166</td>\n",
       "      <td>0</td>\n",
       "      <td>1</td>\n",
       "      <td>3114.429828</td>\n",
       "      <td>4</td>\n",
       "      <td>0</td>\n",
       "      <td>1</td>\n",
       "      <td>249743.833612</td>\n",
       "      <td>110286.677675</td>\n",
       "    </tr>\n",
       "    <tr>\n",
       "      <th>...</th>\n",
       "      <td>...</td>\n",
       "      <td>...</td>\n",
       "      <td>...</td>\n",
       "      <td>...</td>\n",
       "      <td>...</td>\n",
       "      <td>...</td>\n",
       "      <td>...</td>\n",
       "      <td>...</td>\n",
       "      <td>...</td>\n",
       "      <td>...</td>\n",
       "      <td>...</td>\n",
       "      <td>...</td>\n",
       "      <td>...</td>\n",
       "      <td>...</td>\n",
       "      <td>...</td>\n",
       "      <td>...</td>\n",
       "      <td>...</td>\n",
       "      <td>...</td>\n",
       "      <td>...</td>\n",
       "      <td>...</td>\n",
       "      <td>...</td>\n",
       "    </tr>\n",
       "    <tr>\n",
       "      <th>26608</th>\n",
       "      <td>0</td>\n",
       "      <td>64</td>\n",
       "      <td>4211.810000</td>\n",
       "      <td>1</td>\n",
       "      <td>1</td>\n",
       "      <td>2</td>\n",
       "      <td>2</td>\n",
       "      <td>225434.350000</td>\n",
       "      <td>867.880000</td>\n",
       "      <td>0</td>\n",
       "      <td>...</td>\n",
       "      <td>3.000000</td>\n",
       "      <td>842.810000</td>\n",
       "      <td>0</td>\n",
       "      <td>2</td>\n",
       "      <td>4211.810000</td>\n",
       "      <td>1</td>\n",
       "      <td>2</td>\n",
       "      <td>1</td>\n",
       "      <td>285966.630000</td>\n",
       "      <td>0.000000</td>\n",
       "    </tr>\n",
       "    <tr>\n",
       "      <th>26609</th>\n",
       "      <td>1</td>\n",
       "      <td>38</td>\n",
       "      <td>4969.410000</td>\n",
       "      <td>1</td>\n",
       "      <td>1</td>\n",
       "      <td>10</td>\n",
       "      <td>2</td>\n",
       "      <td>76657.900000</td>\n",
       "      <td>722.340000</td>\n",
       "      <td>1</td>\n",
       "      <td>...</td>\n",
       "      <td>2.000000</td>\n",
       "      <td>869.610000</td>\n",
       "      <td>0</td>\n",
       "      <td>2</td>\n",
       "      <td>4969.410000</td>\n",
       "      <td>4</td>\n",
       "      <td>2</td>\n",
       "      <td>1</td>\n",
       "      <td>111096.560000</td>\n",
       "      <td>68992.110000</td>\n",
       "    </tr>\n",
       "    <tr>\n",
       "      <th>26610</th>\n",
       "      <td>1</td>\n",
       "      <td>20</td>\n",
       "      <td>1606.880000</td>\n",
       "      <td>1</td>\n",
       "      <td>7</td>\n",
       "      <td>8</td>\n",
       "      <td>1</td>\n",
       "      <td>66595.140000</td>\n",
       "      <td>253.040000</td>\n",
       "      <td>0</td>\n",
       "      <td>...</td>\n",
       "      <td>3.000000</td>\n",
       "      <td>729.410000</td>\n",
       "      <td>0</td>\n",
       "      <td>1</td>\n",
       "      <td>1606.880000</td>\n",
       "      <td>3</td>\n",
       "      <td>2</td>\n",
       "      <td>1</td>\n",
       "      <td>73453.940000</td>\n",
       "      <td>46616.600000</td>\n",
       "    </tr>\n",
       "    <tr>\n",
       "      <th>26611</th>\n",
       "      <td>0</td>\n",
       "      <td>49</td>\n",
       "      <td>2222.435000</td>\n",
       "      <td>1</td>\n",
       "      <td>7</td>\n",
       "      <td>14</td>\n",
       "      <td>2</td>\n",
       "      <td>81410.080000</td>\n",
       "      <td>583.110000</td>\n",
       "      <td>0</td>\n",
       "      <td>...</td>\n",
       "      <td>2.000000</td>\n",
       "      <td>739.820000</td>\n",
       "      <td>0</td>\n",
       "      <td>0</td>\n",
       "      <td>2223.250000</td>\n",
       "      <td>1</td>\n",
       "      <td>0</td>\n",
       "      <td>1</td>\n",
       "      <td>102108.020000</td>\n",
       "      <td>61057.560000</td>\n",
       "    </tr>\n",
       "    <tr>\n",
       "      <th>26612</th>\n",
       "      <td>0</td>\n",
       "      <td>63</td>\n",
       "      <td>3068.240000</td>\n",
       "      <td>0</td>\n",
       "      <td>3</td>\n",
       "      <td>18</td>\n",
       "      <td>0</td>\n",
       "      <td>156290.540000</td>\n",
       "      <td>693.940000</td>\n",
       "      <td>0</td>\n",
       "      <td>...</td>\n",
       "      <td>1.000000</td>\n",
       "      <td>815.440000</td>\n",
       "      <td>0</td>\n",
       "      <td>0</td>\n",
       "      <td>3068.240000</td>\n",
       "      <td>3</td>\n",
       "      <td>0</td>\n",
       "      <td>1</td>\n",
       "      <td>194512.600000</td>\n",
       "      <td>117217.900000</td>\n",
       "    </tr>\n",
       "  </tbody>\n",
       "</table>\n",
       "<p>26613 rows × 21 columns</p>\n",
       "</div>"
      ],
      "text/plain": [
       "       Gender  Age  Income (USD)  Income Stability  Profession  \\\n",
       "0           0   39   1995.780213                 1           6   \n",
       "1           0   38   2215.728598                 1           4   \n",
       "2           0   38   1895.260967                 1           5   \n",
       "3           0   21   3315.697395                 1           6   \n",
       "4           0   18   3114.429828                 1           4   \n",
       "...       ...  ...           ...               ...         ...   \n",
       "26608       0   64   4211.810000                 1           1   \n",
       "26609       1   38   4969.410000                 1           1   \n",
       "26610       1   20   1606.880000                 1           7   \n",
       "26611       0   49   2222.435000                 1           7   \n",
       "26612       0   63   3068.240000                 0           3   \n",
       "\n",
       "       Type of Employment  Location  Loan Amount Request (USD)  \\\n",
       "0                       2         0              137215.509210   \n",
       "1                       5         1              137867.330913   \n",
       "2                       1         0              137428.771816   \n",
       "3                       9         1              158379.762544   \n",
       "4                       3         0              156805.547489   \n",
       "...                   ...       ...                        ...   \n",
       "26608                   2         2              225434.350000   \n",
       "26609                  10         2               76657.900000   \n",
       "26610                   8         1               66595.140000   \n",
       "26611                  14         2               81410.080000   \n",
       "26612                  18         0              156290.540000   \n",
       "\n",
       "       Current Loan Expenses (USD)  Expense Type 1  ...  Dependents  \\\n",
       "0                       535.546731               0  ...    1.229363   \n",
       "1                       489.343295               0  ...    1.350413   \n",
       "2                       531.756480               0  ...    1.598784   \n",
       "3                       676.456083               0  ...    1.961777   \n",
       "4                       478.627249               0  ...    1.077784   \n",
       "...                            ...             ...  ...         ...   \n",
       "26608                   867.880000               0  ...    3.000000   \n",
       "26609                   722.340000               1  ...    2.000000   \n",
       "26610                   253.040000               0  ...    3.000000   \n",
       "26611                   583.110000               0  ...    2.000000   \n",
       "26612                   693.940000               0  ...    1.000000   \n",
       "\n",
       "       Credit Score  No. of Defaults  Has Active Credit Card  Property Age  \\\n",
       "0        770.612178                0                       0   1995.780213   \n",
       "1        773.857101                0                       0   2215.728598   \n",
       "2        775.093246                0                       0   1895.260967   \n",
       "3        742.855857                0                       1   3315.697395   \n",
       "4        847.989166                0                       1   3114.429828   \n",
       "...             ...              ...                     ...           ...   \n",
       "26608    842.810000                0                       2   4211.810000   \n",
       "26609    869.610000                0                       2   4969.410000   \n",
       "26610    729.410000                0                       1   1606.880000   \n",
       "26611    739.820000                0                       0   2223.250000   \n",
       "26612    815.440000                0                       0   3068.240000   \n",
       "\n",
       "       Property Type  Property Location  Co-Applicant  Property Price  \\\n",
       "0                  2                  1             1   206706.258792   \n",
       "1                  1                  1             1   208023.589917   \n",
       "2                  2                  1             1   206464.210961   \n",
       "3                  4                  0             1   248846.969491   \n",
       "4                  4                  0             1   249743.833612   \n",
       "...              ...                ...           ...             ...   \n",
       "26608              1                  2             1   285966.630000   \n",
       "26609              4                  2             1   111096.560000   \n",
       "26610              3                  2             1    73453.940000   \n",
       "26611              1                  0             1   102108.020000   \n",
       "26612              3                  0             1   194512.600000   \n",
       "\n",
       "       Loan Sanction Amount (USD)  \n",
       "0                   109896.909804  \n",
       "1                   110554.441549  \n",
       "2                   109896.909804  \n",
       "3                   110286.677675  \n",
       "4                   110286.677675  \n",
       "...                           ...  \n",
       "26608                    0.000000  \n",
       "26609                68992.110000  \n",
       "26610                46616.600000  \n",
       "26611                61057.560000  \n",
       "26612               117217.900000  \n",
       "\n",
       "[26613 rows x 21 columns]"
      ]
     },
     "execution_count": 3,
     "metadata": {},
     "output_type": "execute_result"
    }
   ],
   "source": [
    "cleaned"
   ]
  },
  {
   "cell_type": "code",
   "execution_count": 4,
   "metadata": {
    "colab": {
     "base_uri": "https://localhost:8080/"
    },
    "id": "J4tb7iO6whkS",
    "outputId": "c8a4a07d-fa2f-4601-c8ba-571efe57fb19"
   },
   "outputs": [
    {
     "data": {
      "text/plain": [
       "Gender                         0\n",
       "Age                            0\n",
       "Income (USD)                   0\n",
       "Income Stability               0\n",
       "Profession                     0\n",
       "Type of Employment             0\n",
       "Location                       0\n",
       "Loan Amount Request (USD)      0\n",
       "Current Loan Expenses (USD)    0\n",
       "Expense Type 1                 0\n",
       "Expense Type 2                 0\n",
       "Dependents                     0\n",
       "Credit Score                   0\n",
       "No. of Defaults                0\n",
       "Has Active Credit Card         0\n",
       "Property Age                   0\n",
       "Property Type                  0\n",
       "Property Location              0\n",
       "Co-Applicant                   0\n",
       "Property Price                 0\n",
       "Loan Sanction Amount (USD)     0\n",
       "dtype: int64"
      ]
     },
     "execution_count": 4,
     "metadata": {},
     "output_type": "execute_result"
    }
   ],
   "source": [
    "cleaned.isnull().sum()"
   ]
  },
  {
   "cell_type": "markdown",
   "metadata": {},
   "source": [
    "# Splitting the Dataset"
   ]
  },
  {
   "cell_type": "code",
   "execution_count": 5,
   "metadata": {
    "id": "G65Y-RDRIylS"
   },
   "outputs": [],
   "source": [
    "x = cleaned[[\"Gender\",\"Age\",\"Income (USD)\",\"Income Stability\",\"Profession\",\"Type of Employment\",\"Location\",\"Loan Amount Request (USD)\",\"Current Loan Expenses (USD)\",\"Expense Type 1\",\"Expense Type 2\",\"Dependents\",\"Credit Score\",\"No. of Defaults\",\"Has Active Credit Card\",\"Property Age\",\"Property Type\",\"Property Location\",\"Co-Applicant\",\"Property Price\"]]"
   ]
  },
  {
   "cell_type": "code",
   "execution_count": 6,
   "metadata": {
    "id": "vtU-gc3mJVdV"
   },
   "outputs": [],
   "source": [
    "y = cleaned['Loan Sanction Amount (USD)']"
   ]
  },
  {
   "cell_type": "code",
   "execution_count": 7,
   "metadata": {
    "id": "d3LJvHx4JxIp"
   },
   "outputs": [],
   "source": [
    "X_train,X_test,Y_train,Y_test = train_test_split(x,y,test_size =0.25,random_state =21)"
   ]
  },
  {
   "cell_type": "markdown",
   "metadata": {},
   "source": [
    "# Random Forest"
   ]
  },
  {
   "cell_type": "code",
   "execution_count": 11,
   "metadata": {
    "id": "iKUGvGAYKBCo"
   },
   "outputs": [],
   "source": [
    "model = RandomForestRegressor(n_jobs=5)"
   ]
  },
  {
   "cell_type": "code",
   "execution_count": 12,
   "metadata": {
    "colab": {
     "base_uri": "https://localhost:8080/",
     "height": 313
    },
    "id": "gKzVmqDiKDkf",
    "outputId": "19f93d77-17c8-4cce-997e-c3e5405a6abc",
    "scrolled": true
   },
   "outputs": [
    {
     "data": {
      "text/plain": [
       "[<matplotlib.lines.Line2D at 0x7ff5c7c63290>]"
      ]
     },
     "execution_count": 12,
     "metadata": {},
     "output_type": "execute_result"
    },
    {
     "data": {
      "image/png": "[encoded data removed]",
      "text/plain": [
       "<Figure size 432x288 with 1 Axes>"
      ]
     },
     "metadata": {
      "needs_background": "light"
     },
     "output_type": "display_data"
    }
   ],
   "source": [
    "estimators = np.arange(10, 200, 10)\n",
    "scores = []\n",
    "for n in estimators:\n",
    "    model.set_params(n_estimators=n)\n",
    "    model.fit(X_train, Y_train)\n",
    "    scores.append(model.score(X_test, Y_test))\n",
    "plt.title(\"Effect of n_estimators\")\n",
    "plt.xlabel(\"n_estimator\")\n",
    "plt.ylabel(\"score\")\n",
    "plt.plot(estimators, scores)"
   ]
  },
  {
   "cell_type": "code",
   "execution_count": 13,
   "metadata": {
    "colab": {
     "base_uri": "https://localhost:8080/"
    },
    "id": "mPIQ0nfCKGIk",
    "outputId": "03c35354-ba47-4071-febc-2e9433c4be84"
   },
   "outputs": [
    {
     "data": {
      "text/plain": [
       "90.14775049689253"
      ]
     },
     "execution_count": 13,
     "metadata": {},
     "output_type": "execute_result"
    }
   ],
   "source": [
    "#random forest model accuracy\n",
    "model.score(X_test,Y_test)*100"
   ]
  },
  {
   "cell_type": "markdown",
   "metadata": {},
   "source": [
    "# ExtraTreesRegressor"
   ]
  },
  {
   "cell_type": "code",
   "execution_count": 26,
   "metadata": {
    "id": "1-NWu5ByLSXW"
   },
   "outputs": [],
   "source": [
    "reg = ExtraTreesRegressor(n_estimators=200, random_state=11)"
   ]
  },
  {
   "cell_type": "code",
   "execution_count": 27,
   "metadata": {
    "colab": {
     "base_uri": "https://localhost:8080/",
     "height": 313
    },
    "id": "yumaHunbLWd4",
    "outputId": "988185a2-d7c9-47ba-a02c-e211a92ecaad"
   },
   "outputs": [
    {
     "data": {
      "text/plain": [
       "[<matplotlib.lines.Line2D at 0x7ff5c7b94fd0>]"
      ]
     },
     "execution_count": 27,
     "metadata": {},
     "output_type": "execute_result"
    },
    {
     "data": {
      "image/png": "[encoded data removed]",
      "text/plain": [
       "<Figure size 432x288 with 1 Axes>"
      ]
     },
     "metadata": {
      "needs_background": "light"
     },
     "output_type": "display_data"
    }
   ],
   "source": [
    "estimators = np.arange(10, 200, 10)\n",
    "scores = []\n",
    "for n in estimators:\n",
    "    reg.set_params(n_estimators=n)\n",
    "    reg.fit(X_train, Y_train)\n",
    "    scores.append(reg.score(X_test, Y_test))\n",
    "plt.title(\"Effect of n_estimators\")\n",
    "plt.xlabel(\"n_estimator\")\n",
    "plt.ylabel(\"score\")\n",
    "plt.plot(estimators, scores)"
   ]
  },
  {
   "cell_type": "code",
   "execution_count": 28,
   "metadata": {},
   "outputs": [
    {
     "data": {
      "text/plain": [
       "0.9068960181451106"
      ]
     },
     "execution_count": 28,
     "metadata": {},
     "output_type": "execute_result"
    }
   ],
   "source": [
    "reg.score(X_test,Y_test)"
   ]
  },
  {
   "cell_type": "markdown",
   "metadata": {},
   "source": [
    "# Difference between the Actual and Predicted value"
   ]
  },
  {
   "cell_type": "code",
   "execution_count": 103,
   "metadata": {},
   "outputs": [
    {
     "data": {
      "text/html": [
       "<div>\n",
       "<style scoped>\n",
       "    .dataframe tbody tr th:only-of-type {\n",
       "        vertical-align: middle;\n",
       "    }\n",
       "\n",
       "    .dataframe tbody tr th {\n",
       "        vertical-align: top;\n",
       "    }\n",
       "\n",
       "    .dataframe thead th {\n",
       "        text-align: right;\n",
       "    }\n",
       "</style>\n",
       "<table border=\"1\" class=\"dataframe\">\n",
       "  <thead>\n",
       "    <tr style=\"text-align: right;\">\n",
       "      <th></th>\n",
       "      <th>Gender</th>\n",
       "      <th>Age</th>\n",
       "      <th>Income (USD)</th>\n",
       "      <th>Income Stability</th>\n",
       "      <th>Profession</th>\n",
       "      <th>Type of Employment</th>\n",
       "      <th>Location</th>\n",
       "      <th>Loan Amount Request (USD)</th>\n",
       "      <th>Current Loan Expenses (USD)</th>\n",
       "      <th>Expense Type 1</th>\n",
       "      <th>...</th>\n",
       "      <th>Credit Score</th>\n",
       "      <th>No. of Defaults</th>\n",
       "      <th>Has Active Credit Card</th>\n",
       "      <th>Property Age</th>\n",
       "      <th>Property Type</th>\n",
       "      <th>Property Location</th>\n",
       "      <th>Co-Applicant</th>\n",
       "      <th>Property Price</th>\n",
       "      <th>Loan Sanction Amount (USD)</th>\n",
       "      <th>prediction</th>\n",
       "    </tr>\n",
       "  </thead>\n",
       "  <tbody>\n",
       "    <tr>\n",
       "      <th>6075</th>\n",
       "      <td>1</td>\n",
       "      <td>59</td>\n",
       "      <td>3428.476861</td>\n",
       "      <td>0</td>\n",
       "      <td>3</td>\n",
       "      <td>15</td>\n",
       "      <td>1</td>\n",
       "      <td>180408.419222</td>\n",
       "      <td>626.893453</td>\n",
       "      <td>0</td>\n",
       "      <td>...</td>\n",
       "      <td>859.420149</td>\n",
       "      <td>0</td>\n",
       "      <td>1</td>\n",
       "      <td>3428.476861</td>\n",
       "      <td>3</td>\n",
       "      <td>1</td>\n",
       "      <td>1</td>\n",
       "      <td>242472.925939</td>\n",
       "      <td>144329.674871</td>\n",
       "      <td>138201.189398</td>\n",
       "    </tr>\n",
       "    <tr>\n",
       "      <th>7643</th>\n",
       "      <td>1</td>\n",
       "      <td>45</td>\n",
       "      <td>4387.403792</td>\n",
       "      <td>1</td>\n",
       "      <td>7</td>\n",
       "      <td>12</td>\n",
       "      <td>1</td>\n",
       "      <td>202934.782650</td>\n",
       "      <td>832.772859</td>\n",
       "      <td>0</td>\n",
       "      <td>...</td>\n",
       "      <td>781.564009</td>\n",
       "      <td>0</td>\n",
       "      <td>0</td>\n",
       "      <td>4387.403792</td>\n",
       "      <td>2</td>\n",
       "      <td>1</td>\n",
       "      <td>1</td>\n",
       "      <td>343226.199660</td>\n",
       "      <td>162353.037689</td>\n",
       "      <td>160676.265205</td>\n",
       "    </tr>\n",
       "    <tr>\n",
       "      <th>5041</th>\n",
       "      <td>0</td>\n",
       "      <td>60</td>\n",
       "      <td>4056.182904</td>\n",
       "      <td>1</td>\n",
       "      <td>1</td>\n",
       "      <td>3</td>\n",
       "      <td>1</td>\n",
       "      <td>205909.403787</td>\n",
       "      <td>867.714284</td>\n",
       "      <td>0</td>\n",
       "      <td>...</td>\n",
       "      <td>686.365807</td>\n",
       "      <td>0</td>\n",
       "      <td>0</td>\n",
       "      <td>4056.235447</td>\n",
       "      <td>1</td>\n",
       "      <td>1</td>\n",
       "      <td>1</td>\n",
       "      <td>309417.284130</td>\n",
       "      <td>135095.323161</td>\n",
       "      <td>127811.425174</td>\n",
       "    </tr>\n",
       "    <tr>\n",
       "      <th>15594</th>\n",
       "      <td>0</td>\n",
       "      <td>18</td>\n",
       "      <td>4929.440000</td>\n",
       "      <td>1</td>\n",
       "      <td>7</td>\n",
       "      <td>10</td>\n",
       "      <td>1</td>\n",
       "      <td>87942.370000</td>\n",
       "      <td>468.400000</td>\n",
       "      <td>0</td>\n",
       "      <td>...</td>\n",
       "      <td>833.630000</td>\n",
       "      <td>0</td>\n",
       "      <td>1</td>\n",
       "      <td>4929.440000</td>\n",
       "      <td>2</td>\n",
       "      <td>0</td>\n",
       "      <td>1</td>\n",
       "      <td>100471.890000</td>\n",
       "      <td>70353.900000</td>\n",
       "      <td>59447.819342</td>\n",
       "    </tr>\n",
       "    <tr>\n",
       "      <th>3735</th>\n",
       "      <td>0</td>\n",
       "      <td>46</td>\n",
       "      <td>9093.217780</td>\n",
       "      <td>1</td>\n",
       "      <td>3</td>\n",
       "      <td>9</td>\n",
       "      <td>1</td>\n",
       "      <td>181194.512175</td>\n",
       "      <td>603.462605</td>\n",
       "      <td>0</td>\n",
       "      <td>...</td>\n",
       "      <td>758.881359</td>\n",
       "      <td>0</td>\n",
       "      <td>1</td>\n",
       "      <td>9093.217780</td>\n",
       "      <td>3</td>\n",
       "      <td>1</td>\n",
       "      <td>1</td>\n",
       "      <td>243934.501128</td>\n",
       "      <td>126717.014110</td>\n",
       "      <td>132017.640950</td>\n",
       "    </tr>\n",
       "  </tbody>\n",
       "</table>\n",
       "<p>5 rows × 22 columns</p>\n",
       "</div>"
      ],
      "text/plain": [
       "       Gender  Age  Income (USD)  Income Stability  Profession  \\\n",
       "6075        1   59   3428.476861                 0           3   \n",
       "7643        1   45   4387.403792                 1           7   \n",
       "5041        0   60   4056.182904                 1           1   \n",
       "15594       0   18   4929.440000                 1           7   \n",
       "3735        0   46   9093.217780                 1           3   \n",
       "\n",
       "       Type of Employment  Location  Loan Amount Request (USD)  \\\n",
       "6075                   15         1              180408.419222   \n",
       "7643                   12         1              202934.782650   \n",
       "5041                    3         1              205909.403787   \n",
       "15594                  10         1               87942.370000   \n",
       "3735                    9         1              181194.512175   \n",
       "\n",
       "       Current Loan Expenses (USD)  Expense Type 1  ...  Credit Score  \\\n",
       "6075                    626.893453               0  ...    859.420149   \n",
       "7643                    832.772859               0  ...    781.564009   \n",
       "5041                    867.714284               0  ...    686.365807   \n",
       "15594                   468.400000               0  ...    833.630000   \n",
       "3735                    603.462605               0  ...    758.881359   \n",
       "\n",
       "       No. of Defaults  Has Active Credit Card  Property Age  Property Type  \\\n",
       "6075                 0                       1   3428.476861              3   \n",
       "7643                 0                       0   4387.403792              2   \n",
       "5041                 0                       0   4056.235447              1   \n",
       "15594                0                       1   4929.440000              2   \n",
       "3735                 0                       1   9093.217780              3   \n",
       "\n",
       "       Property Location  Co-Applicant  Property Price  \\\n",
       "6075                   1             1   242472.925939   \n",
       "7643                   1             1   343226.199660   \n",
       "5041                   1             1   309417.284130   \n",
       "15594                  0             1   100471.890000   \n",
       "3735                   1             1   243934.501128   \n",
       "\n",
       "       Loan Sanction Amount (USD)     prediction  \n",
       "6075                144329.674871  138201.189398  \n",
       "7643                162353.037689  160676.265205  \n",
       "5041                135095.323161  127811.425174  \n",
       "15594                70353.900000   59447.819342  \n",
       "3735                126717.014110  132017.640950  \n",
       "\n",
       "[5 rows x 22 columns]"
      ]
     },
     "execution_count": 103,
     "metadata": {},
     "output_type": "execute_result"
    }
   ],
   "source": [
    "predictions = reg.predict(X_test)\n",
    "\n",
    "result = X_test\n",
    "result['Loan Sanction Amount (USD)'] = Y_test\n",
    "result['prediction'] = predictions.tolist()\n",
    "result.head()"
   ]
  },
  {
   "cell_type": "markdown",
   "metadata": {},
   "source": [
    "# Saving the model"
   ]
  },
  {
   "cell_type": "code",
   "execution_count": 327,
   "metadata": {
    "colab": {
     "base_uri": "https://localhost:8080/"
    },
    "id": "jirn_KeDQ0ax",
    "outputId": "7d325125-742c-48de-8b57-788ac93ae828"
   },
   "outputs": [
    {
     "data": {
      "text/plain": [
       "array([136701.09198823, 160699.90064486, 125684.20743503, ...,\n",
       "       110588.02120404, 227081.31381334,  12626.10710526])"
      ]
     },
     "execution_count": 327,
     "metadata": {
      "tags": []
     },
     "output_type": "execute_result"
    }
   ],
   "source": [
    "import pickle\n",
    "saved_model = pickle.dumps(reg)\n",
    "reg_from_pickle = pickle.loads(saved_model)\n",
    "#reg_from_pickle.predict(X_test)"
   ]
  },
  {
   "cell_type": "code",
   "execution_count": 328,
   "metadata": {
    "id": "zrrxqnCMRz_g"
   },
   "outputs": [],
   "source": [
    "filename = 'finalized_model.sav'\n",
    "pickle.dump(reg, open(filename, 'wb'))"
   ]
  },
  {
   "cell_type": "markdown",
   "metadata": {},
   "source": [
    "# XG boost "
   ]
  },
  {
   "cell_type": "code",
   "execution_count": 316,
   "metadata": {
    "colab": {
     "base_uri": "https://localhost:8080/",
     "height": 636
    },
    "id": "OM5C5-rPLcdl",
    "outputId": "38f870ff-e386-48cb-ca21-599875cb482c"
   },
   "outputs": [
    {
     "name": "stdout",
     "output_type": "stream",
     "text": [
      "[12:01:25] WARNING: /workspace/src/objective/regression_obj.cu:152: reg:linear is now deprecated in favor of reg:squarederror.\n",
      "[12:01:26] WARNING: /workspace/src/objective/regression_obj.cu:152: reg:linear is now deprecated in favor of reg:squarederror.\n",
      "[12:01:26] WARNING: /workspace/src/objective/regression_obj.cu:152: reg:linear is now deprecated in favor of reg:squarederror.\n",
      "[12:01:27] WARNING: /workspace/src/objective/regression_obj.cu:152: reg:linear is now deprecated in favor of reg:squarederror.\n",
      "[12:01:27] WARNING: /workspace/src/objective/regression_obj.cu:152: reg:linear is now deprecated in favor of reg:squarederror.\n",
      "[12:01:28] WARNING: /workspace/src/objective/regression_obj.cu:152: reg:linear is now deprecated in favor of reg:squarederror.\n",
      "[12:01:29] WARNING: /workspace/src/objective/regression_obj.cu:152: reg:linear is now deprecated in favor of reg:squarederror.\n",
      "[12:01:30] WARNING: /workspace/src/objective/regression_obj.cu:152: reg:linear is now deprecated in favor of reg:squarederror.\n",
      "[12:01:31] WARNING: /workspace/src/objective/regression_obj.cu:152: reg:linear is now deprecated in favor of reg:squarederror.\n",
      "[12:01:33] WARNING: /workspace/src/objective/regression_obj.cu:152: reg:linear is now deprecated in favor of reg:squarederror.\n",
      "[12:01:34] WARNING: /workspace/src/objective/regression_obj.cu:152: reg:linear is now deprecated in favor of reg:squarederror.\n",
      "[12:01:36] WARNING: /workspace/src/objective/regression_obj.cu:152: reg:linear is now deprecated in favor of reg:squarederror.\n",
      "[12:01:38] WARNING: /workspace/src/objective/regression_obj.cu:152: reg:linear is now deprecated in favor of reg:squarederror.\n",
      "[12:01:40] WARNING: /workspace/src/objective/regression_obj.cu:152: reg:linear is now deprecated in favor of reg:squarederror.\n",
      "[12:01:42] WARNING: /workspace/src/objective/regression_obj.cu:152: reg:linear is now deprecated in favor of reg:squarederror.\n",
      "[12:01:44] WARNING: /workspace/src/objective/regression_obj.cu:152: reg:linear is now deprecated in favor of reg:squarederror.\n",
      "[12:01:47] WARNING: /workspace/src/objective/regression_obj.cu:152: reg:linear is now deprecated in favor of reg:squarederror.\n",
      "[12:01:49] WARNING: /workspace/src/objective/regression_obj.cu:152: reg:linear is now deprecated in favor of reg:squarederror.\n",
      "[12:01:52] WARNING: /workspace/src/objective/regression_obj.cu:152: reg:linear is now deprecated in favor of reg:squarederror.\n"
     ]
    },
    {
     "data": {
      "text/plain": [
       "[<matplotlib.lines.Line2D at 0x7f052238db90>]"
      ]
     },
     "execution_count": 316,
     "metadata": {
      "tags": []
     },
     "output_type": "execute_result"
    },
    {
     "data": {
      "image/png": "[encoded data removed]",
      "text/plain": [
       "<Figure size 432x288 with 1 Axes>"
      ]
     },
     "metadata": {
      "needs_background": "light",
      "tags": []
     },
     "output_type": "display_data"
    }
   ],
   "source": [
    "import xgboost as xg\n",
    "xgb_r = xg.XGBRegressor(objective ='reg:linear',\n",
    "                  n_estimators = 10, seed = 123)\n",
    "estimators = np.arange(10, 200, 10)\n",
    "scores = []\n",
    "for n in estimators:\n",
    "    xgb_r.set_params(n_estimators=n)\n",
    "    xgb_r.fit(X_train, Y_train)\n",
    "    scores.append(xgb_r.score(X_test, Y_test))\n",
    "plt.title(\"Effect of n_estimators\")\n",
    "plt.xlabel(\"n_estimator\")\n",
    "plt.ylabel(\"score\")\n",
    "plt.plot(estimators, scores)"
   ]
  },
  {
   "cell_type": "code",
   "execution_count": 317,
   "metadata": {
    "colab": {
     "base_uri": "https://localhost:8080/"
    },
    "id": "yO8S6oEsMilT",
    "outputId": "55acdc58-7238-4378-dd04-6a68525a5534"
   },
   "outputs": [
    {
     "data": {
      "text/plain": [
       "90.07448704561817"
      ]
     },
     "execution_count": 317,
     "metadata": {
      "tags": []
     },
     "output_type": "execute_result"
    }
   ],
   "source": [
    "xgb_r.score(X_test, Y_test)*100"
   ]
  },
  {
   "cell_type": "markdown",
   "metadata": {},
   "source": [
    "# Linera_Regression"
   ]
  },
  {
   "cell_type": "code",
   "execution_count": 318,
   "metadata": {
    "colab": {
     "base_uri": "https://localhost:8080/"
    },
    "id": "oKtbCjuuNXAj",
    "outputId": "a615c9f5-4baf-443a-b877-64ecf5157dc8"
   },
   "outputs": [
    {
     "data": {
      "text/plain": [
       "85.56615441181283"
      ]
     },
     "execution_count": 318,
     "metadata": {
      "tags": []
     },
     "output_type": "execute_result"
    }
   ],
   "source": [
    "from sklearn.linear_model import LinearRegression\n",
    "lm = LinearRegression()\n",
    "lm.fit(X_train,Y_train)\n",
    "lm.score(X_test,Y_test)*100"
   ]
  },
  {
   "cell_type": "markdown",
   "metadata": {},
   "source": [
    "# Testing the First 20 values from Test Sheet"
   ]
  },
  {
   "cell_type": "code",
   "execution_count": 132,
   "metadata": {
    "colab": {
     "base_uri": "https://localhost:8080/"
    },
    "id": "zmap5AaRVAYU",
    "outputId": "1cd06b14-114f-46ac-86de-38f0e33f24b5"
   },
   "outputs": [],
   "source": [
    "data = pd.read_csv('/home/sreebalaji/Downloads/test - test.csv')"
   ]
  },
  {
   "cell_type": "code",
   "execution_count": 133,
   "metadata": {
    "id": "7RevEbdXZw5P"
   },
   "outputs": [
    {
     "data": {
      "text/html": [
       "<div>\n",
       "<style scoped>\n",
       "    .dataframe tbody tr th:only-of-type {\n",
       "        vertical-align: middle;\n",
       "    }\n",
       "\n",
       "    .dataframe tbody tr th {\n",
       "        vertical-align: top;\n",
       "    }\n",
       "\n",
       "    .dataframe thead th {\n",
       "        text-align: right;\n",
       "    }\n",
       "</style>\n",
       "<table border=\"1\" class=\"dataframe\">\n",
       "  <thead>\n",
       "    <tr style=\"text-align: right;\">\n",
       "      <th></th>\n",
       "      <th>Customer ID</th>\n",
       "      <th>Name</th>\n",
       "      <th>Gender</th>\n",
       "      <th>Age</th>\n",
       "      <th>Income (USD)</th>\n",
       "      <th>Income Stability</th>\n",
       "      <th>Profession</th>\n",
       "      <th>Type of Employment</th>\n",
       "      <th>Location</th>\n",
       "      <th>Loan Amount Request (USD)</th>\n",
       "      <th>...</th>\n",
       "      <th>Dependents</th>\n",
       "      <th>Credit Score</th>\n",
       "      <th>No. of Defaults</th>\n",
       "      <th>Has Active Credit Card</th>\n",
       "      <th>Property ID</th>\n",
       "      <th>Property Age</th>\n",
       "      <th>Property Type</th>\n",
       "      <th>Property Location</th>\n",
       "      <th>Co-Applicant</th>\n",
       "      <th>Property Price</th>\n",
       "    </tr>\n",
       "  </thead>\n",
       "  <tbody>\n",
       "    <tr>\n",
       "      <th>0</th>\n",
       "      <td>C-26247</td>\n",
       "      <td>Tandra Olszewski</td>\n",
       "      <td>F</td>\n",
       "      <td>47</td>\n",
       "      <td>3472.69</td>\n",
       "      <td>Low</td>\n",
       "      <td>Commercial associate</td>\n",
       "      <td>Managers</td>\n",
       "      <td>Semi-Urban</td>\n",
       "      <td>137088.98</td>\n",
       "      <td>...</td>\n",
       "      <td>2.0</td>\n",
       "      <td>799.14</td>\n",
       "      <td>0</td>\n",
       "      <td>Unpossessed</td>\n",
       "      <td>843</td>\n",
       "      <td>3472.69</td>\n",
       "      <td>2</td>\n",
       "      <td>Urban</td>\n",
       "      <td>1</td>\n",
       "      <td>236644.50</td>\n",
       "    </tr>\n",
       "    <tr>\n",
       "      <th>1</th>\n",
       "      <td>C-35067</td>\n",
       "      <td>Jeannette Cha</td>\n",
       "      <td>F</td>\n",
       "      <td>57</td>\n",
       "      <td>1184.84</td>\n",
       "      <td>Low</td>\n",
       "      <td>Working</td>\n",
       "      <td>Sales staff</td>\n",
       "      <td>Rural</td>\n",
       "      <td>104771.59</td>\n",
       "      <td>...</td>\n",
       "      <td>2.0</td>\n",
       "      <td>833.31</td>\n",
       "      <td>0</td>\n",
       "      <td>Unpossessed</td>\n",
       "      <td>22</td>\n",
       "      <td>1184.84</td>\n",
       "      <td>1</td>\n",
       "      <td>Rural</td>\n",
       "      <td>1</td>\n",
       "      <td>142357.30</td>\n",
       "    </tr>\n",
       "    <tr>\n",
       "      <th>2</th>\n",
       "      <td>C-34590</td>\n",
       "      <td>Keva Godfrey</td>\n",
       "      <td>F</td>\n",
       "      <td>52</td>\n",
       "      <td>1266.27</td>\n",
       "      <td>Low</td>\n",
       "      <td>Working</td>\n",
       "      <td>NaN</td>\n",
       "      <td>Semi-Urban</td>\n",
       "      <td>176684.91</td>\n",
       "      <td>...</td>\n",
       "      <td>3.0</td>\n",
       "      <td>627.44</td>\n",
       "      <td>0</td>\n",
       "      <td>Unpossessed</td>\n",
       "      <td>1</td>\n",
       "      <td>1266.27</td>\n",
       "      <td>1</td>\n",
       "      <td>Urban</td>\n",
       "      <td>1</td>\n",
       "      <td>300991.24</td>\n",
       "    </tr>\n",
       "    <tr>\n",
       "      <th>3</th>\n",
       "      <td>C-16668</td>\n",
       "      <td>Elva Sackett</td>\n",
       "      <td>M</td>\n",
       "      <td>65</td>\n",
       "      <td>1369.72</td>\n",
       "      <td>High</td>\n",
       "      <td>Pensioner</td>\n",
       "      <td>NaN</td>\n",
       "      <td>Rural</td>\n",
       "      <td>97009.18</td>\n",
       "      <td>...</td>\n",
       "      <td>2.0</td>\n",
       "      <td>833.20</td>\n",
       "      <td>0</td>\n",
       "      <td>Inactive</td>\n",
       "      <td>730</td>\n",
       "      <td>1369.72</td>\n",
       "      <td>1</td>\n",
       "      <td>Semi-Urban</td>\n",
       "      <td>0</td>\n",
       "      <td>125612.10</td>\n",
       "    </tr>\n",
       "    <tr>\n",
       "      <th>4</th>\n",
       "      <td>C-12196</td>\n",
       "      <td>Sade Constable</td>\n",
       "      <td>F</td>\n",
       "      <td>60</td>\n",
       "      <td>1939.23</td>\n",
       "      <td>High</td>\n",
       "      <td>Pensioner</td>\n",
       "      <td>NaN</td>\n",
       "      <td>Urban</td>\n",
       "      <td>109980.00</td>\n",
       "      <td>...</td>\n",
       "      <td>NaN</td>\n",
       "      <td>NaN</td>\n",
       "      <td>0</td>\n",
       "      <td>NaN</td>\n",
       "      <td>356</td>\n",
       "      <td>1939.23</td>\n",
       "      <td>4</td>\n",
       "      <td>Semi-Urban</td>\n",
       "      <td>1</td>\n",
       "      <td>180908.00</td>\n",
       "    </tr>\n",
       "    <tr>\n",
       "      <th>...</th>\n",
       "      <td>...</td>\n",
       "      <td>...</td>\n",
       "      <td>...</td>\n",
       "      <td>...</td>\n",
       "      <td>...</td>\n",
       "      <td>...</td>\n",
       "      <td>...</td>\n",
       "      <td>...</td>\n",
       "      <td>...</td>\n",
       "      <td>...</td>\n",
       "      <td>...</td>\n",
       "      <td>...</td>\n",
       "      <td>...</td>\n",
       "      <td>...</td>\n",
       "      <td>...</td>\n",
       "      <td>...</td>\n",
       "      <td>...</td>\n",
       "      <td>...</td>\n",
       "      <td>...</td>\n",
       "      <td>...</td>\n",
       "      <td>...</td>\n",
       "    </tr>\n",
       "    <tr>\n",
       "      <th>19995</th>\n",
       "      <td>C-9076</td>\n",
       "      <td>Tobias Davilla</td>\n",
       "      <td>F</td>\n",
       "      <td>19</td>\n",
       "      <td>1349.60</td>\n",
       "      <td>Low</td>\n",
       "      <td>Commercial associate</td>\n",
       "      <td>NaN</td>\n",
       "      <td>Semi-Urban</td>\n",
       "      <td>156766.97</td>\n",
       "      <td>...</td>\n",
       "      <td>4.0</td>\n",
       "      <td>684.32</td>\n",
       "      <td>0</td>\n",
       "      <td>Inactive</td>\n",
       "      <td>681</td>\n",
       "      <td>1349.60</td>\n",
       "      <td>4</td>\n",
       "      <td>Semi-Urban</td>\n",
       "      <td>1</td>\n",
       "      <td>212778.00</td>\n",
       "    </tr>\n",
       "    <tr>\n",
       "      <th>19996</th>\n",
       "      <td>C-17587</td>\n",
       "      <td>Evelina Hodges</td>\n",
       "      <td>M</td>\n",
       "      <td>22</td>\n",
       "      <td>2019.78</td>\n",
       "      <td>Low</td>\n",
       "      <td>Working</td>\n",
       "      <td>Core staff</td>\n",
       "      <td>Urban</td>\n",
       "      <td>47924.80</td>\n",
       "      <td>...</td>\n",
       "      <td>NaN</td>\n",
       "      <td>706.34</td>\n",
       "      <td>0</td>\n",
       "      <td>Inactive</td>\n",
       "      <td>213</td>\n",
       "      <td>2019.78</td>\n",
       "      <td>4</td>\n",
       "      <td>Urban</td>\n",
       "      <td>1</td>\n",
       "      <td>90816.95</td>\n",
       "    </tr>\n",
       "    <tr>\n",
       "      <th>19997</th>\n",
       "      <td>C-46479</td>\n",
       "      <td>Karlyn Mckinzie</td>\n",
       "      <td>M</td>\n",
       "      <td>19</td>\n",
       "      <td>2252.03</td>\n",
       "      <td>Low</td>\n",
       "      <td>Working</td>\n",
       "      <td>Core staff</td>\n",
       "      <td>Semi-Urban</td>\n",
       "      <td>18629.88</td>\n",
       "      <td>...</td>\n",
       "      <td>1.0</td>\n",
       "      <td>656.46</td>\n",
       "      <td>0</td>\n",
       "      <td>Inactive</td>\n",
       "      <td>270</td>\n",
       "      <td>2252.03</td>\n",
       "      <td>2</td>\n",
       "      <td>Rural</td>\n",
       "      <td>0</td>\n",
       "      <td>21566.27</td>\n",
       "    </tr>\n",
       "    <tr>\n",
       "      <th>19998</th>\n",
       "      <td>C-3099</td>\n",
       "      <td>Mariana Pulver</td>\n",
       "      <td>F</td>\n",
       "      <td>21</td>\n",
       "      <td>1845.35</td>\n",
       "      <td>Low</td>\n",
       "      <td>Working</td>\n",
       "      <td>NaN</td>\n",
       "      <td>Semi-Urban</td>\n",
       "      <td>95430.73</td>\n",
       "      <td>...</td>\n",
       "      <td>2.0</td>\n",
       "      <td>865.46</td>\n",
       "      <td>0</td>\n",
       "      <td>Unpossessed</td>\n",
       "      <td>489</td>\n",
       "      <td>1845.35</td>\n",
       "      <td>1</td>\n",
       "      <td>Semi-Urban</td>\n",
       "      <td>1</td>\n",
       "      <td>120281.17</td>\n",
       "    </tr>\n",
       "    <tr>\n",
       "      <th>19999</th>\n",
       "      <td>C-43482</td>\n",
       "      <td>Mechelle Boddie</td>\n",
       "      <td>M</td>\n",
       "      <td>21</td>\n",
       "      <td>5233.16</td>\n",
       "      <td>Low</td>\n",
       "      <td>Working</td>\n",
       "      <td>Laborers</td>\n",
       "      <td>Semi-Urban</td>\n",
       "      <td>107966.03</td>\n",
       "      <td>...</td>\n",
       "      <td>3.0</td>\n",
       "      <td>857.16</td>\n",
       "      <td>1</td>\n",
       "      <td>Active</td>\n",
       "      <td>368</td>\n",
       "      <td>5233.16</td>\n",
       "      <td>4</td>\n",
       "      <td>Semi-Urban</td>\n",
       "      <td>0</td>\n",
       "      <td>133425.43</td>\n",
       "    </tr>\n",
       "  </tbody>\n",
       "</table>\n",
       "<p>20000 rows × 23 columns</p>\n",
       "</div>"
      ],
      "text/plain": [
       "      Customer ID              Name Gender  Age  Income (USD)  \\\n",
       "0         C-26247  Tandra Olszewski      F   47       3472.69   \n",
       "1         C-35067     Jeannette Cha      F   57       1184.84   \n",
       "2         C-34590      Keva Godfrey      F   52       1266.27   \n",
       "3         C-16668      Elva Sackett      M   65       1369.72   \n",
       "4         C-12196    Sade Constable      F   60       1939.23   \n",
       "...           ...               ...    ...  ...           ...   \n",
       "19995      C-9076    Tobias Davilla      F   19       1349.60   \n",
       "19996     C-17587    Evelina Hodges      M   22       2019.78   \n",
       "19997     C-46479   Karlyn Mckinzie      M   19       2252.03   \n",
       "19998      C-3099    Mariana Pulver      F   21       1845.35   \n",
       "19999     C-43482   Mechelle Boddie      M   21       5233.16   \n",
       "\n",
       "      Income Stability            Profession Type of Employment    Location  \\\n",
       "0                  Low  Commercial associate           Managers  Semi-Urban   \n",
       "1                  Low               Working        Sales staff       Rural   \n",
       "2                  Low               Working                NaN  Semi-Urban   \n",
       "3                 High             Pensioner                NaN       Rural   \n",
       "4                 High             Pensioner                NaN       Urban   \n",
       "...                ...                   ...                ...         ...   \n",
       "19995              Low  Commercial associate                NaN  Semi-Urban   \n",
       "19996              Low               Working         Core staff       Urban   \n",
       "19997              Low               Working         Core staff  Semi-Urban   \n",
       "19998              Low               Working                NaN  Semi-Urban   \n",
       "19999              Low               Working           Laborers  Semi-Urban   \n",
       "\n",
       "       Loan Amount Request (USD)  ...  Dependents Credit Score  \\\n",
       "0                      137088.98  ...         2.0       799.14   \n",
       "1                      104771.59  ...         2.0       833.31   \n",
       "2                      176684.91  ...         3.0       627.44   \n",
       "3                       97009.18  ...         2.0       833.20   \n",
       "4                      109980.00  ...         NaN          NaN   \n",
       "...                          ...  ...         ...          ...   \n",
       "19995                  156766.97  ...         4.0       684.32   \n",
       "19996                   47924.80  ...         NaN       706.34   \n",
       "19997                   18629.88  ...         1.0       656.46   \n",
       "19998                   95430.73  ...         2.0       865.46   \n",
       "19999                  107966.03  ...         3.0       857.16   \n",
       "\n",
       "      No. of Defaults  Has Active Credit Card  Property ID  Property Age  \\\n",
       "0                   0             Unpossessed          843       3472.69   \n",
       "1                   0             Unpossessed           22       1184.84   \n",
       "2                   0             Unpossessed            1       1266.27   \n",
       "3                   0                Inactive          730       1369.72   \n",
       "4                   0                     NaN          356       1939.23   \n",
       "...               ...                     ...          ...           ...   \n",
       "19995               0                Inactive          681       1349.60   \n",
       "19996               0                Inactive          213       2019.78   \n",
       "19997               0                Inactive          270       2252.03   \n",
       "19998               0             Unpossessed          489       1845.35   \n",
       "19999               1                  Active          368       5233.16   \n",
       "\n",
       "      Property Type  Property Location  Co-Applicant  Property Price  \n",
       "0                 2              Urban             1       236644.50  \n",
       "1                 1              Rural             1       142357.30  \n",
       "2                 1              Urban             1       300991.24  \n",
       "3                 1         Semi-Urban             0       125612.10  \n",
       "4                 4         Semi-Urban             1       180908.00  \n",
       "...             ...                ...           ...             ...  \n",
       "19995             4         Semi-Urban             1       212778.00  \n",
       "19996             4              Urban             1        90816.95  \n",
       "19997             2              Rural             0        21566.27  \n",
       "19998             1         Semi-Urban             1       120281.17  \n",
       "19999             4         Semi-Urban             0       133425.43  \n",
       "\n",
       "[20000 rows x 23 columns]"
      ]
     },
     "execution_count": 133,
     "metadata": {},
     "output_type": "execute_result"
    }
   ],
   "source": [
    "data"
   ]
  },
  {
   "cell_type": "code",
   "execution_count": 134,
   "metadata": {},
   "outputs": [
    {
     "data": {
      "text/plain": [
       "Customer ID                       0\n",
       "Name                              0\n",
       "Gender                           31\n",
       "Age                               0\n",
       "Income (USD)                    750\n",
       "Income Stability                813\n",
       "Profession                        0\n",
       "Type of Employment             4689\n",
       "Location                          0\n",
       "Loan Amount Request (USD)         0\n",
       "Current Loan Expenses (USD)      83\n",
       "Expense Type 1                    0\n",
       "Expense Type 2                    0\n",
       "Dependents                     1142\n",
       "Credit Score                    743\n",
       "No. of Defaults                   0\n",
       "Has Active Credit Card         1076\n",
       "Property ID                       0\n",
       "Property Age                    892\n",
       "Property Type                     0\n",
       "Property Location               160\n",
       "Co-Applicant                      0\n",
       "Property Price                    0\n",
       "dtype: int64"
      ]
     },
     "execution_count": 134,
     "metadata": {},
     "output_type": "execute_result"
    }
   ],
   "source": [
    "data.isnull().sum()"
   ]
  },
  {
   "cell_type": "markdown",
   "metadata": {},
   "source": [
    "# Filling NaN values"
   ]
  },
  {
   "cell_type": "code",
   "execution_count": 135,
   "metadata": {},
   "outputs": [
    {
     "data": {
      "text/plain": [
       "False"
      ]
     },
     "execution_count": 135,
     "metadata": {},
     "output_type": "execute_result"
    }
   ],
   "source": [
    "data[\"Income Stability\"].fillna(\"unknown\", inplace = True)\n",
    "data[\"Income Stability\"].isnull().values.any()"
   ]
  },
  {
   "cell_type": "code",
   "execution_count": 136,
   "metadata": {},
   "outputs": [
    {
     "data": {
      "text/plain": [
       "False"
      ]
     },
     "execution_count": 136,
     "metadata": {},
     "output_type": "execute_result"
    }
   ],
   "source": [
    "data[\"Type of Employment\"].fillna(\"unknown\", inplace = True)\n",
    "data[\"Type of Employment\"].isnull().values.any()"
   ]
  },
  {
   "cell_type": "code",
   "execution_count": 137,
   "metadata": {},
   "outputs": [
    {
     "data": {
      "text/plain": [
       "False"
      ]
     },
     "execution_count": 137,
     "metadata": {},
     "output_type": "execute_result"
    }
   ],
   "source": [
    "z = data[\"Dependents\"].median()\n",
    "data[\"Dependents\"].fillna(z, inplace = True)\n",
    "data[\"Dependents\"].isnull().values.any()"
   ]
  },
  {
   "cell_type": "code",
   "execution_count": 138,
   "metadata": {},
   "outputs": [
    {
     "data": {
      "text/plain": [
       "False"
      ]
     },
     "execution_count": 138,
     "metadata": {},
     "output_type": "execute_result"
    }
   ],
   "source": [
    "z = data[\"Credit Score\"].median()\n",
    "data[\"Credit Score\"].fillna(z, inplace = True)\n",
    "data[\"Credit Score\"].isnull().values.any()"
   ]
  },
  {
   "cell_type": "code",
   "execution_count": 139,
   "metadata": {},
   "outputs": [
    {
     "data": {
      "text/plain": [
       "False"
      ]
     },
     "execution_count": 139,
     "metadata": {},
     "output_type": "execute_result"
    }
   ],
   "source": [
    "data[\"Has Active Credit Card\"].fillna(\"unknown\", inplace = True)\n",
    "data[\"Has Active Credit Card\"].isnull().values.any()"
   ]
  },
  {
   "cell_type": "markdown",
   "metadata": {},
   "source": [
    "# Label Encoding\n"
   ]
  },
  {
   "cell_type": "code",
   "execution_count": 140,
   "metadata": {},
   "outputs": [
    {
     "data": {
      "text/plain": [
       "array([0, 1, 2])"
      ]
     },
     "execution_count": 140,
     "metadata": {},
     "output_type": "execute_result"
    }
   ],
   "source": [
    "# Encode labels in column \n",
    "data['Gender']= label_encoder.fit_transform(data['Gender'])\n",
    "data['Gender'].unique()"
   ]
  },
  {
   "cell_type": "code",
   "execution_count": 141,
   "metadata": {},
   "outputs": [
    {
     "data": {
      "text/plain": [
       "array([1, 0, 2])"
      ]
     },
     "execution_count": 141,
     "metadata": {},
     "output_type": "execute_result"
    }
   ],
   "source": [
    "data['Income Stability']= label_encoder.fit_transform(data['Income Stability'])\n",
    "data['Income Stability'].unique()"
   ]
  },
  {
   "cell_type": "code",
   "execution_count": 142,
   "metadata": {},
   "outputs": [
    {
     "data": {
      "text/plain": [
       "array([0, 6, 2, 3, 5, 1, 4])"
      ]
     },
     "execution_count": 142,
     "metadata": {},
     "output_type": "execute_result"
    }
   ],
   "source": [
    "data['Profession']= label_encoder.fit_transform(data['Profession'])\n",
    "data['Profession'].unique()"
   ]
  },
  {
   "cell_type": "code",
   "execution_count": 143,
   "metadata": {},
   "outputs": [
    {
     "data": {
      "text/plain": [
       "array([10, 14, 18,  8,  3, 11,  0,  6, 15,  4,  2, 16,  1,  9, 17, 13, 12,\n",
       "        7,  5])"
      ]
     },
     "execution_count": 143,
     "metadata": {},
     "output_type": "execute_result"
    }
   ],
   "source": [
    "data['Type of Employment']= label_encoder.fit_transform(data['Type of Employment'])\n",
    "data['Type of Employment'].unique()"
   ]
  },
  {
   "cell_type": "code",
   "execution_count": 144,
   "metadata": {},
   "outputs": [
    {
     "data": {
      "text/plain": [
       "array([1, 0, 2])"
      ]
     },
     "execution_count": 144,
     "metadata": {},
     "output_type": "execute_result"
    }
   ],
   "source": [
    "data['Location']= label_encoder.fit_transform(data['Location'])\n",
    "data['Location'].unique()"
   ]
  },
  {
   "cell_type": "code",
   "execution_count": 145,
   "metadata": {},
   "outputs": [
    {
     "data": {
      "text/plain": [
       "array([2, 1, 3, 0])"
      ]
     },
     "execution_count": 145,
     "metadata": {},
     "output_type": "execute_result"
    }
   ],
   "source": [
    "data['Has Active Credit Card']= label_encoder.fit_transform(data['Has Active Credit Card'])\n",
    "data['Has Active Credit Card'].unique()"
   ]
  },
  {
   "cell_type": "code",
   "execution_count": 146,
   "metadata": {},
   "outputs": [
    {
     "data": {
      "text/plain": [
       "array([2, 0, 1, 3])"
      ]
     },
     "execution_count": 146,
     "metadata": {},
     "output_type": "execute_result"
    }
   ],
   "source": [
    "data['Property Location']= label_encoder.fit_transform(data['Property Location'])\n",
    "data['Property Location'].unique()"
   ]
  },
  {
   "cell_type": "code",
   "execution_count": 147,
   "metadata": {},
   "outputs": [
    {
     "data": {
      "text/plain": [
       "array([0, 1])"
      ]
     },
     "execution_count": 147,
     "metadata": {},
     "output_type": "execute_result"
    }
   ],
   "source": [
    "data['Expense Type 1']= label_encoder.fit_transform(data['Expense Type 1'])\n",
    "data['Expense Type 1'].unique()"
   ]
  },
  {
   "cell_type": "code",
   "execution_count": 148,
   "metadata": {},
   "outputs": [
    {
     "data": {
      "text/plain": [
       "array([0, 1])"
      ]
     },
     "execution_count": 148,
     "metadata": {},
     "output_type": "execute_result"
    }
   ],
   "source": [
    "data['Expense Type 2']= label_encoder.fit_transform(data['Expense Type 2'])\n",
    "data['Expense Type 2'].unique()"
   ]
  },
  {
   "cell_type": "code",
   "execution_count": 154,
   "metadata": {},
   "outputs": [],
   "source": [
    "x_test  = data[[\"Gender\",\"Age\",\"Income (USD)\",\"Income Stability\",\"Profession\",\"Type of Employment\",\"Location\",\"Loan Amount Request (USD)\",\"Current Loan Expenses (USD)\",\"Expense Type 1\",\"Expense Type 2\",\"Dependents\",\"Credit Score\",\"No. of Defaults\",\"Has Active Credit Card\",\"Property Age\",\"Property Type\",\"Property Location\",\"Co-Applicant\",\"Property Price\"]]"
   ]
  },
  {
   "cell_type": "code",
   "execution_count": 153,
   "metadata": {},
   "outputs": [
    {
     "data": {
      "text/plain": [
       "Customer ID                    0\n",
       "Name                           0\n",
       "Gender                         0\n",
       "Age                            0\n",
       "Income (USD)                   0\n",
       "Income Stability               0\n",
       "Profession                     0\n",
       "Type of Employment             0\n",
       "Location                       0\n",
       "Loan Amount Request (USD)      0\n",
       "Current Loan Expenses (USD)    0\n",
       "Expense Type 1                 0\n",
       "Expense Type 2                 0\n",
       "Dependents                     0\n",
       "Credit Score                   0\n",
       "No. of Defaults                0\n",
       "Has Active Credit Card         0\n",
       "Property ID                    0\n",
       "Property Age                   0\n",
       "Property Type                  0\n",
       "Property Location              0\n",
       "Co-Applicant                   0\n",
       "Property Price                 0\n",
       "dtype: int64"
      ]
     },
     "execution_count": 153,
     "metadata": {},
     "output_type": "execute_result"
    }
   ],
   "source": [
    "data.isnull().sum()"
   ]
  },
  {
   "cell_type": "code",
   "execution_count": 150,
   "metadata": {},
   "outputs": [
    {
     "data": {
      "text/plain": [
       "False"
      ]
     },
     "execution_count": 150,
     "metadata": {},
     "output_type": "execute_result"
    }
   ],
   "source": [
    "z = data[\"Income (USD)\"].median()\n",
    "data[\"Income (USD)\"].fillna(z, inplace = True)\n",
    "data[\"Income (USD)\"].isnull().values.any()"
   ]
  },
  {
   "cell_type": "code",
   "execution_count": 151,
   "metadata": {},
   "outputs": [
    {
     "data": {
      "text/plain": [
       "False"
      ]
     },
     "execution_count": 151,
     "metadata": {},
     "output_type": "execute_result"
    }
   ],
   "source": [
    "z = data[\"Current Loan Expenses (USD)\"].median()\n",
    "data[\"Current Loan Expenses (USD)\"].fillna(z, inplace = True)\n",
    "data[\"Current Loan Expenses (USD)\"].isnull().values.any()"
   ]
  },
  {
   "cell_type": "code",
   "execution_count": 152,
   "metadata": {},
   "outputs": [
    {
     "data": {
      "text/plain": [
       "False"
      ]
     },
     "execution_count": 152,
     "metadata": {},
     "output_type": "execute_result"
    }
   ],
   "source": [
    "z = data[\"Property Age\"].median()\n",
    "data[\"Property Age\"].fillna(z, inplace = True)\n",
    "data[\"Property Age\"].isnull().values.any()"
   ]
  },
  {
   "cell_type": "code",
   "execution_count": 155,
   "metadata": {},
   "outputs": [
    {
     "data": {
      "text/plain": [
       "(20000, 20)"
      ]
     },
     "execution_count": 155,
     "metadata": {},
     "output_type": "execute_result"
    }
   ],
   "source": [
    "x_test.shape"
   ]
  },
  {
   "cell_type": "code",
   "execution_count": 156,
   "metadata": {},
   "outputs": [
    {
     "data": {
      "text/plain": [
       "array([98225.53, 64766.14, 15198.9 , ...,  3030.89, 68441.44, 55415.4 ])"
      ]
     },
     "execution_count": 156,
     "metadata": {},
     "output_type": "execute_result"
    }
   ],
   "source": [
    "y_pred = reg.predict(x_test)\n",
    "y_pred\n",
    "x = np.round(y_pred, decimals=2)\n",
    "x"
   ]
  },
  {
   "cell_type": "code",
   "execution_count": 157,
   "metadata": {},
   "outputs": [],
   "source": [
    "dict = {\"Loan Sanction Amount (USD)\":x}"
   ]
  },
  {
   "cell_type": "code",
   "execution_count": 158,
   "metadata": {},
   "outputs": [],
   "source": [
    "val = data[\"Customer ID\"]"
   ]
  },
  {
   "cell_type": "code",
   "execution_count": 159,
   "metadata": {},
   "outputs": [],
   "source": [
    "dict={\"Customer ID\":val,\"Loan Sanction Amount (USD)\":x}"
   ]
  },
  {
   "cell_type": "code",
   "execution_count": 160,
   "metadata": {},
   "outputs": [],
   "source": [
    "ans = pd.DataFrame(dict)"
   ]
  },
  {
   "cell_type": "markdown",
   "metadata": {},
   "source": [
    "# Sample Submission csv"
   ]
  },
  {
   "cell_type": "code",
   "execution_count": 161,
   "metadata": {},
   "outputs": [
    {
     "data": {
      "text/html": [
       "<div>\n",
       "<style scoped>\n",
       "    .dataframe tbody tr th:only-of-type {\n",
       "        vertical-align: middle;\n",
       "    }\n",
       "\n",
       "    .dataframe tbody tr th {\n",
       "        vertical-align: top;\n",
       "    }\n",
       "\n",
       "    .dataframe thead th {\n",
       "        text-align: right;\n",
       "    }\n",
       "</style>\n",
       "<table border=\"1\" class=\"dataframe\">\n",
       "  <thead>\n",
       "    <tr style=\"text-align: right;\">\n",
       "      <th></th>\n",
       "      <th>Customer ID</th>\n",
       "      <th>Loan Sanction Amount (USD)</th>\n",
       "    </tr>\n",
       "  </thead>\n",
       "  <tbody>\n",
       "    <tr>\n",
       "      <th>0</th>\n",
       "      <td>C-26247</td>\n",
       "      <td>98225.53</td>\n",
       "    </tr>\n",
       "    <tr>\n",
       "      <th>1</th>\n",
       "      <td>C-35067</td>\n",
       "      <td>64766.14</td>\n",
       "    </tr>\n",
       "    <tr>\n",
       "      <th>2</th>\n",
       "      <td>C-34590</td>\n",
       "      <td>15198.90</td>\n",
       "    </tr>\n",
       "    <tr>\n",
       "      <th>3</th>\n",
       "      <td>C-16668</td>\n",
       "      <td>64350.37</td>\n",
       "    </tr>\n",
       "    <tr>\n",
       "      <th>4</th>\n",
       "      <td>C-12196</td>\n",
       "      <td>64710.77</td>\n",
       "    </tr>\n",
       "  </tbody>\n",
       "</table>\n",
       "</div>"
      ],
      "text/plain": [
       "  Customer ID  Loan Sanction Amount (USD)\n",
       "0     C-26247                    98225.53\n",
       "1     C-35067                    64766.14\n",
       "2     C-34590                    15198.90\n",
       "3     C-16668                    64350.37\n",
       "4     C-12196                    64710.77"
      ]
     },
     "execution_count": 161,
     "metadata": {},
     "output_type": "execute_result"
    }
   ],
   "source": [
    "ans.head()"
   ]
  },
  {
   "cell_type": "code",
   "execution_count": 162,
   "metadata": {},
   "outputs": [],
   "source": [
    "ans.to_csv(\"sample_submission.csv\")"
   ]
  },
  {
   "cell_type": "code",
   "execution_count": null,
   "metadata": {},
   "outputs": [],
   "source": []
  }
 ],
 "metadata": {
  "accelerator": "GPU",
  "colab": {
   "name": "Cipla_test.ipynb",
   "provenance": []
  },
  "kernelspec": {
   "display_name": "Python 3",
   "language": "python",
   "name": "python3"
  },
  "language_info": {
   "codemirror_mode": {
    "name": "ipython",
    "version": 3
   },
   "file_extension": ".py",
   "mimetype": "text/x-python",
   "name": "python",
   "nbconvert_exporter": "python",
   "pygments_lexer": "ipython3",
   "version": "3.7.6"
  }
 },
 "nbformat": 4,
 "nbformat_minor": 1
}
